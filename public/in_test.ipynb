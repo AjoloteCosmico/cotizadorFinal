{
 "cells": [
  {
   "cell_type": "code",
   "execution_count": 5,
   "metadata": {},
   "outputs": [],
   "source": [
    "import sys\n",
    "import mysql.connector\n",
    "import xlsxwriter\n",
    "import pandas as pd\n",
    "import sys\n",
    "import mysql.connector\n",
    "import numpy as np\n",
    "import os\n",
    "from dotenv import load_dotenv\n",
    "load_dotenv()\n",
    "#ESTE ARGUMENTO NO SE USA EN ESTE REPORTE, SERÁ 0 SIEMPRE UWU\n",
    "# id=str(sys.argv[1])\n",
    "id='82'\n",
    "DB_USERNAME = os.getenv('DB_USERNAME')\n",
    "DB_DATABASE = os.getenv('DB_DATABASE')\n",
    "DB_PASSWORD = os.getenv('DB_PASSWORD')\n",
    "DB_PORT = os.getenv('DB_PORT')\n",
    "\n",
    "\n",
    "# Conectar a DB\n",
    "cnx = mysql.connector.connect(user=DB_USERNAME,\n",
    "                              password=DB_PASSWORD,\n",
    "                              host='localhost',\n",
    "                              port=DB_PORT,\n",
    "                              database=DB_DATABASE,\n",
    "                              use_pure=False)\n",
    "\n",
    "cursor=cnx.cursor()"
   ]
  },
  {
   "cell_type": "code",
   "execution_count": 3,
   "metadata": {},
   "outputs": [],
   "source": [
    "loading=pd.read_excel('loading.xlsx')"
   ]
  },
  {
   "cell_type": "code",
   "execution_count": 9,
   "metadata": {},
   "outputs": [],
   "source": [
    "loading=loading.astype(str)"
   ]
  },
  {
   "cell_type": "code",
   "execution_count": 7,
   "metadata": {},
   "outputs": [],
   "source": [
    "query='INSERT INTO type_l_r_joist_loading_capacities(caliber,loading_capacity,crossbar_length,camber) values(%s,%s,%s,%s)'"
   ]
  },
  {
   "cell_type": "code",
   "execution_count": 10,
   "metadata": {},
   "outputs": [],
   "source": [
    "for i in range(len(loading)):\n",
    "    cursor.execute(query,tuple([loading['calibre'].values[i],\n",
    "                                loading['capacidad'].values[i],\n",
    "                                loading['longitud'].values[i],\n",
    "                                loading['peralte'].values[i],\n",
    "                                   ]))\n",
    "cnx.commit()"
   ]
  },
  {
   "cell_type": "code",
   "execution_count": 1,
   "metadata": {},
   "outputs": [
    {
     "data": {
      "text/plain": [
       "'Selectivo'"
      ]
     },
     "execution_count": 1,
     "metadata": {},
     "output_type": "execute_result"
    }
   ],
   "source": [
    "'SELECTIVO'"
   ]
  },
  {
   "cell_type": "code",
   "execution_count": 11,
   "metadata": {},
   "outputs": [],
   "source": [
    "lr=pd.read_excel('tablas_lr.xlsx')"
   ]
  },
  {
   "cell_type": "code",
   "execution_count": 16,
   "metadata": {},
   "outputs": [],
   "source": [
    "lr=lr.astype(str)"
   ]
  },
  {
   "cell_type": "code",
   "execution_count": 18,
   "metadata": {},
   "outputs": [
    {
     "data": {
      "text/plain": [
       "Index(['largo', 'sku', 'peso', 'm2', 'precio', 'peralte', 'calibre'], dtype='object')"
      ]
     },
     "execution_count": 18,
     "metadata": {},
     "output_type": "execute_result"
    }
   ],
   "source": [
    "lr.columns"
   ]
  },
  {
   "cell_type": "code",
   "execution_count": 24,
   "metadata": {},
   "outputs": [],
   "source": [
    "query='INSERT INTO type_l_r_joists(length,sku,weight,m2,price,camber,caliber) values(%s,%s,%s,%s,%s,%s,%s)'"
   ]
  },
  {
   "cell_type": "code",
   "execution_count": 26,
   "metadata": {},
   "outputs": [],
   "source": [
    "for i in range(len(lr)):\n",
    "    cursor.execute(query,tuple([lr['largo'].values[i],\n",
    "                                lr['sku'].values[i],\n",
    "                                lr['peso'].values[i],\n",
    "                                lr['m2'].values[i],\n",
    "                                lr['precio'].values[i],   \n",
    "                                lr['peralte'].values[i],\n",
    "                                lr['calibre'].values[i],\n",
    "                                   ]))\n",
    "cnx.commit()"
   ]
  },
  {
   "cell_type": "code",
   "execution_count": 56,
   "metadata": {},
   "outputs": [],
   "source": [
    "data=pd.read_excel('entpint.xlsx',sheet_name='ENTREPAÑO C-20',skiprows=[0,2])"
   ]
  },
  {
   "cell_type": "code",
   "execution_count": 57,
   "metadata": {},
   "outputs": [
    {
     "data": {
      "text/plain": [
       "Index(['DFONDO M', 'DFRENTE M', 'VFONDO M', 'VLARGO M', 'SKU', 'CALIBRE',\n",
       "       'KG / M2', 'PESO ', 'M2 ', 'PRECIO VENTA', 'CAPACIDAD DE CARGA (KG)',\n",
       "       'CON 1 REFUERZO', 'CON 2 REFUERZOS'],\n",
       "      dtype='object')"
      ]
     },
     "execution_count": 57,
     "metadata": {},
     "output_type": "execute_result"
    }
   ],
   "source": [
    "data.columns"
   ]
  },
  {
   "cell_type": "code",
   "execution_count": 59,
   "metadata": {},
   "outputs": [],
   "source": [
    "query='INSERT INTO estanteria_entrepanios(development_deep,development_front,deep,length,sku,caliber,kgm2,weight,m2,loading_capacity,reforcement1,reforcement2,type) values(%s,%s,%s,%s,%s,%s,%s,%s,%s,%s,%s,%s,%s)'"
   ]
  },
  {
   "cell_type": "code",
   "execution_count": 65,
   "metadata": {},
   "outputs": [],
   "source": [
    "for caliber in ['20','22','24','26']:\n",
    "    data=pd.read_excel('entgal.xlsx',sheet_name='ENTREPAÑO C-'+caliber,skiprows=[0,2])\n",
    "    for i in range(len(data)):\n",
    "        cursor.execute(query,tuple([\n",
    "        str(data['DFONDO M'].values[i]),\n",
    "        str(data['DFRENTE M'].values[i]),\n",
    "        str(data['VFONDO M'].values[i]),\n",
    "        str(data['VLARGO M'].values[i]),\n",
    "        str(data['SKU'].values[i]),\n",
    "        caliber,\n",
    "        str(data['KG / M2'].values[i]),\n",
    "        str(data['PESO '].values[i]),\n",
    "        str(data['M2 '].values[i]),\n",
    "        str(data['CAPACIDAD DE CARGA (KG)'].values[i]),\n",
    "        str(data['CON 1 REFUERZO'].values[i]),\n",
    "        str(data['CON 2 REFUERZOS'].values[i]),\n",
    "        'GALVANIZADO'\n",
    "                  ]))\n",
    "cnx.commit()"
   ]
  },
  {
   "cell_type": "code",
   "execution_count": 28,
   "metadata": {},
   "outputs": [
    {
     "name": "stdout",
     "output_type": "stream",
     "text": [
      "str(data['DFONDO M'].values[i]),\n",
      "str(data['DFRENTE M'].values[i]),\n",
      "str(data['VFONDO M'].values[i]),\n",
      "str(data['VLARGO M'].values[i]),\n",
      "str(data['SKU'].values[i]),\n",
      "str(data['CALIBRE'].values[i]),\n",
      "str(data['KG / M2'].values[i]),\n",
      "str(data['PESO '].values[i]),\n",
      "str(data['M2 '].values[i]),\n",
      "str(data['PRECIO VENTA'].values[i]),\n",
      "str(data['CAPACIDAD DE CARGA (KG)'].values[i]),\n",
      "str(data['CON 1 REFUERZO'].values[i]),\n",
      "str(data['CON 2 REFUERZOS'].values[i]),\n"
     ]
    }
   ],
   "source": [
    "for i in data.columns:\n",
    "\n",
    "\n",
    "    \n",
    "    print(\"str(data['\"+i+\"'].values[i]),\")"
   ]
  },
  {
   "cell_type": "code",
   "execution_count": 61,
   "metadata": {},
   "outputs": [],
   "source": [
    "cursor.execute('truncate table estanteria_entrepanios')\n",
    "cursor.execute('alter table estanteria_entrepanios AUTO_INCREMENT = 1')"
   ]
  },
  {
   "cell_type": "code",
   "execution_count": 53,
   "metadata": {},
   "outputs": [],
   "source": [
    "cnx.commit()"
   ]
  },
  {
   "cell_type": "code",
   "execution_count": 66,
   "metadata": {},
   "outputs": [
    {
     "name": "stderr",
     "output_type": "stream",
     "text": [
      "C:\\Users\\hp\\AppData\\Local\\Temp\\ipykernel_6452\\401490957.py:1: UserWarning: pandas only supports SQLAlchemy connectable (engine/connection) or database string URI or sqlite3 DBAPI2 connection. Other DBAPI2 objects are not tested. Please consider using SQLAlchemy.\n",
      "  e=pd.read_sql('select * from estanteria_entrepanios',cnx)\n"
     ]
    }
   ],
   "source": [
    "e=pd.read_sql('select * from estanteria_entrepanios',cnx)"
   ]
  },
  {
   "cell_type": "code",
   "execution_count": 68,
   "metadata": {},
   "outputs": [
    {
     "data": {
      "text/plain": [
       "array(['PINTADO', 'GALVANIZADO'], dtype=object)"
      ]
     },
     "execution_count": 68,
     "metadata": {},
     "output_type": "execute_result"
    }
   ],
   "source": [
    "e['type'].unique()"
   ]
  },
  {
   "cell_type": "code",
   "execution_count": 11,
   "metadata": {},
   "outputs": [],
   "source": [
    "data=pd.read_excel('angulos.xlsx',sheet_name='ANGULO RANURADO C-14',skiprows=[0,1,2,])"
   ]
  },
  {
   "cell_type": "code",
   "execution_count": 7,
   "metadata": {},
   "outputs": [],
   "source": [
    "query='INSERT INTO gangplank_angles(length,sku,caliber,weight,m2,deep) values(%s,%s,%s,%s,%s,%s)'"
   ]
  },
  {
   "cell_type": "code",
   "execution_count": 10,
   "metadata": {},
   "outputs": [],
   "source": [
    "for i in range(len(data)):\n",
    "        cursor.execute(query,tuple([\n",
    "        str(data['Unnamed: 0'].values[i]),\n",
    "        str(data['SKU'].values[i]),\n",
    "        '14',\n",
    "        str(data['PESO (KG).1'].values[i]),\n",
    "        str(data['M2.1'].values[i]),\n",
    "        '0.76'\n",
    "                  ]))\n",
    "cnx.commit()"
   ]
  },
  {
   "cell_type": "code",
   "execution_count": 4,
   "metadata": {},
   "outputs": [
    {
     "data": {
      "text/plain": [
       "Index(['Unnamed: 0', 'SKU', 'PESO (KG)', 'M2', 'PRECIO', 'SKU.1',\n",
       "       'PESO (KG).1', 'M2.1', 'PRECIO.1'],\n",
       "      dtype='object')"
      ]
     },
     "execution_count": 4,
     "metadata": {},
     "output_type": "execute_result"
    }
   ],
   "source": [
    "data.columns"
   ]
  },
  {
   "cell_type": "code",
   "execution_count": 12,
   "metadata": {},
   "outputs": [
    {
     "data": {
      "text/html": [
       "<div>\n",
       "<style scoped>\n",
       "    .dataframe tbody tr th:only-of-type {\n",
       "        vertical-align: middle;\n",
       "    }\n",
       "\n",
       "    .dataframe tbody tr th {\n",
       "        vertical-align: top;\n",
       "    }\n",
       "\n",
       "    .dataframe thead th {\n",
       "        text-align: right;\n",
       "    }\n",
       "</style>\n",
       "<table border=\"1\" class=\"dataframe\">\n",
       "  <thead>\n",
       "    <tr style=\"text-align: right;\">\n",
       "      <th></th>\n",
       "      <th>Unnamed: 0</th>\n",
       "      <th>SKU</th>\n",
       "      <th>PESO (KG)</th>\n",
       "      <th>M2</th>\n",
       "      <th>PRECIO</th>\n",
       "      <th>SKU.1</th>\n",
       "      <th>PESO (KG).1</th>\n",
       "      <th>M2.1</th>\n",
       "      <th>PRECIO.1</th>\n",
       "    </tr>\n",
       "  </thead>\n",
       "  <tbody>\n",
       "    <tr>\n",
       "      <th>0</th>\n",
       "      <td>0.01</td>\n",
       "      <td>TC0000123991</td>\n",
       "      <td>0.01098</td>\n",
       "      <td>0.00144</td>\n",
       "      <td>1.540667</td>\n",
       "      <td>TC0000124357</td>\n",
       "      <td>0.01403</td>\n",
       "      <td>0.00184</td>\n",
       "      <td>1.968631</td>\n",
       "    </tr>\n",
       "    <tr>\n",
       "      <th>1</th>\n",
       "      <td>0.02</td>\n",
       "      <td>TC0000123992</td>\n",
       "      <td>0.02196</td>\n",
       "      <td>0.00288</td>\n",
       "      <td>2.981937</td>\n",
       "      <td>TC0000124358</td>\n",
       "      <td>0.02806</td>\n",
       "      <td>0.00368</td>\n",
       "      <td>3.810253</td>\n",
       "    </tr>\n",
       "    <tr>\n",
       "      <th>2</th>\n",
       "      <td>0.03</td>\n",
       "      <td>TC0000123993</td>\n",
       "      <td>0.03294</td>\n",
       "      <td>0.00432</td>\n",
       "      <td>4.472905</td>\n",
       "      <td>TC0000124359</td>\n",
       "      <td>0.04209</td>\n",
       "      <td>0.00552</td>\n",
       "      <td>5.715379</td>\n",
       "    </tr>\n",
       "    <tr>\n",
       "      <th>3</th>\n",
       "      <td>0.04</td>\n",
       "      <td>TC0000123994</td>\n",
       "      <td>0.04392</td>\n",
       "      <td>0.00576</td>\n",
       "      <td>5.963874</td>\n",
       "      <td>TC0000124360</td>\n",
       "      <td>0.05612</td>\n",
       "      <td>0.00736</td>\n",
       "      <td>7.620505</td>\n",
       "    </tr>\n",
       "    <tr>\n",
       "      <th>4</th>\n",
       "      <td>0.05</td>\n",
       "      <td>TC0000123995</td>\n",
       "      <td>0.05490</td>\n",
       "      <td>0.00720</td>\n",
       "      <td>7.454842</td>\n",
       "      <td>TC0000124361</td>\n",
       "      <td>0.07015</td>\n",
       "      <td>0.00920</td>\n",
       "      <td>9.525632</td>\n",
       "    </tr>\n",
       "    <tr>\n",
       "      <th>...</th>\n",
       "      <td>...</td>\n",
       "      <td>...</td>\n",
       "      <td>...</td>\n",
       "      <td>...</td>\n",
       "      <td>...</td>\n",
       "      <td>...</td>\n",
       "      <td>...</td>\n",
       "      <td>...</td>\n",
       "      <td>...</td>\n",
       "    </tr>\n",
       "    <tr>\n",
       "      <th>361</th>\n",
       "      <td>3.62</td>\n",
       "      <td>TC0000124352</td>\n",
       "      <td>3.97476</td>\n",
       "      <td>0.52128</td>\n",
       "      <td>539.730568</td>\n",
       "      <td>TC0000124718</td>\n",
       "      <td>5.07886</td>\n",
       "      <td>0.66608</td>\n",
       "      <td>689.655726</td>\n",
       "    </tr>\n",
       "    <tr>\n",
       "      <th>362</th>\n",
       "      <td>3.63</td>\n",
       "      <td>TC0000124353</td>\n",
       "      <td>3.98574</td>\n",
       "      <td>0.52272</td>\n",
       "      <td>541.221537</td>\n",
       "      <td>TC0000124719</td>\n",
       "      <td>5.09289</td>\n",
       "      <td>0.66792</td>\n",
       "      <td>691.560853</td>\n",
       "    </tr>\n",
       "    <tr>\n",
       "      <th>363</th>\n",
       "      <td>3.64</td>\n",
       "      <td>TC0000124354</td>\n",
       "      <td>3.99672</td>\n",
       "      <td>0.52416</td>\n",
       "      <td>542.712505</td>\n",
       "      <td>TC0000124720</td>\n",
       "      <td>5.10692</td>\n",
       "      <td>0.66976</td>\n",
       "      <td>693.465979</td>\n",
       "    </tr>\n",
       "    <tr>\n",
       "      <th>364</th>\n",
       "      <td>3.65</td>\n",
       "      <td>TC0000124355</td>\n",
       "      <td>4.00770</td>\n",
       "      <td>0.52560</td>\n",
       "      <td>544.203474</td>\n",
       "      <td>TC0000124721</td>\n",
       "      <td>5.12095</td>\n",
       "      <td>0.67160</td>\n",
       "      <td>695.371105</td>\n",
       "    </tr>\n",
       "    <tr>\n",
       "      <th>365</th>\n",
       "      <td>3.66</td>\n",
       "      <td>TC0000124356</td>\n",
       "      <td>4.01868</td>\n",
       "      <td>0.52704</td>\n",
       "      <td>545.694442</td>\n",
       "      <td>TC0000124722</td>\n",
       "      <td>5.13498</td>\n",
       "      <td>0.67344</td>\n",
       "      <td>697.276232</td>\n",
       "    </tr>\n",
       "  </tbody>\n",
       "</table>\n",
       "<p>366 rows × 9 columns</p>\n",
       "</div>"
      ],
      "text/plain": [
       "     Unnamed: 0           SKU  PESO (KG)       M2      PRECIO         SKU.1  \\\n",
       "0          0.01  TC0000123991    0.01098  0.00144    1.540667  TC0000124357   \n",
       "1          0.02  TC0000123992    0.02196  0.00288    2.981937  TC0000124358   \n",
       "2          0.03  TC0000123993    0.03294  0.00432    4.472905  TC0000124359   \n",
       "3          0.04  TC0000123994    0.04392  0.00576    5.963874  TC0000124360   \n",
       "4          0.05  TC0000123995    0.05490  0.00720    7.454842  TC0000124361   \n",
       "..          ...           ...        ...      ...         ...           ...   \n",
       "361        3.62  TC0000124352    3.97476  0.52128  539.730568  TC0000124718   \n",
       "362        3.63  TC0000124353    3.98574  0.52272  541.221537  TC0000124719   \n",
       "363        3.64  TC0000124354    3.99672  0.52416  542.712505  TC0000124720   \n",
       "364        3.65  TC0000124355    4.00770  0.52560  544.203474  TC0000124721   \n",
       "365        3.66  TC0000124356    4.01868  0.52704  545.694442  TC0000124722   \n",
       "\n",
       "     PESO (KG).1     M2.1    PRECIO.1  \n",
       "0        0.01403  0.00184    1.968631  \n",
       "1        0.02806  0.00368    3.810253  \n",
       "2        0.04209  0.00552    5.715379  \n",
       "3        0.05612  0.00736    7.620505  \n",
       "4        0.07015  0.00920    9.525632  \n",
       "..           ...      ...         ...  \n",
       "361      5.07886  0.66608  689.655726  \n",
       "362      5.09289  0.66792  691.560853  \n",
       "363      5.10692  0.66976  693.465979  \n",
       "364      5.12095  0.67160  695.371105  \n",
       "365      5.13498  0.67344  697.276232  \n",
       "\n",
       "[366 rows x 9 columns]"
      ]
     },
     "execution_count": 12,
     "metadata": {},
     "output_type": "execute_result"
    }
   ],
   "source": [
    "data"
   ]
  },
  {
   "cell_type": "code",
   "execution_count": 14,
   "metadata": {},
   "outputs": [],
   "source": [
    "data=pd.read_excel('respaldos.xlsx',skiprows=[0,2],sheet_name='RESPALDOS C-24')"
   ]
  },
  {
   "cell_type": "code",
   "execution_count": 19,
   "metadata": {},
   "outputs": [],
   "source": [
    "query='INSERT INTO respaldos(deep,front,sku,caliber,kgm2,weight,m2) values(%s,%s,%s,%s,%s,%s,%s)'"
   ]
  },
  {
   "cell_type": "code",
   "execution_count": 22,
   "metadata": {},
   "outputs": [],
   "source": [
    "for i in range(len(data)):\n",
    "        cursor.execute(query,tuple([\n",
    "        str(data['DESARROLLO'].values[i]),\n",
    "        str(data['Unnamed: 2'].values[i]),\n",
    "        str(data['SKU'].values[i]),\n",
    "        str(data['CALIBRE'].values[i]),\n",
    "        str(data['KG / M2'].values[i]),\n",
    "        str(data['PESO '].values[i]),\n",
    "        str(data['M2 '].values[i]),\n",
    "                  ]))\n",
    "cnx.commit()"
   ]
  },
  {
   "cell_type": "code",
   "execution_count": 16,
   "metadata": {},
   "outputs": [
    {
     "data": {
      "text/plain": [
       "Index(['Unnamed: 0', 'DESARROLLO', 'Unnamed: 2', 'SKU', 'CALIBRE', 'KG / M2',\n",
       "       'PESO ', 'M2 ', 'PRECIO VENTA'],\n",
       "      dtype='object')"
      ]
     },
     "execution_count": 16,
     "metadata": {},
     "output_type": "execute_result"
    }
   ],
   "source": [
    "data.columns"
   ]
  },
  {
   "cell_type": "code",
   "execution_count": 18,
   "metadata": {},
   "outputs": [
    {
     "data": {
      "text/plain": [
       "0     1.8\n",
       "1     2.0\n",
       "2     2.2\n",
       "3     2.4\n",
       "4     3.0\n",
       "5     1.8\n",
       "6     2.0\n",
       "7     2.2\n",
       "8     2.4\n",
       "9     3.0\n",
       "10    1.8\n",
       "11    2.0\n",
       "12    2.2\n",
       "13    2.4\n",
       "14    3.0\n",
       "15    1.8\n",
       "16    2.0\n",
       "17    2.2\n",
       "18    2.4\n",
       "19    3.0\n",
       "20    1.8\n",
       "21    2.0\n",
       "22    2.2\n",
       "23    2.4\n",
       "24    3.0\n",
       "Name: Unnamed: 2, dtype: float64"
      ]
     },
     "execution_count": 18,
     "metadata": {},
     "output_type": "execute_result"
    }
   ],
   "source": [
    "data['Unnamed: 2']"
   ]
  },
  {
   "cell_type": "code",
   "execution_count": 4,
   "metadata": {},
   "outputs": [
    {
     "data": {
      "text/plain": [
       "93246.3"
      ]
     },
     "execution_count": 4,
     "metadata": {},
     "output_type": "execute_result"
    }
   ],
   "source": [
    "46623.15+37298.52+9324.63"
   ]
  },
  {
   "cell_type": "code",
   "execution_count": 5,
   "metadata": {},
   "outputs": [
    {
     "data": {
      "text/plain": [
       "14919.4"
      ]
     },
     "execution_count": 5,
     "metadata": {},
     "output_type": "execute_result"
    }
   ],
   "source": [
    "7459.70+5967.76+1491.94"
   ]
  },
  {
   "cell_type": "code",
   "execution_count": 5,
   "metadata": {},
   "outputs": [
    {
     "data": {
      "text/plain": [
       "506.445"
      ]
     },
     "execution_count": 5,
     "metadata": {},
     "output_type": "execute_result"
    }
   ],
   "source": [
    "168815.00*0.003"
   ]
  },
  {
   "cell_type": "code",
   "execution_count": null,
   "metadata": {},
   "outputs": [],
   "source": []
  }
 ],
 "metadata": {
  "kernelspec": {
   "display_name": "Python 3",
   "language": "python",
   "name": "python3"
  },
  "language_info": {
   "codemirror_mode": {
    "name": "ipython",
    "version": 3
   },
   "file_extension": ".py",
   "mimetype": "text/x-python",
   "name": "python",
   "nbconvert_exporter": "python",
   "pygments_lexer": "ipython3",
   "version": "3.10.0"
  },
  "orig_nbformat": 4
 },
 "nbformat": 4,
 "nbformat_minor": 2
}
