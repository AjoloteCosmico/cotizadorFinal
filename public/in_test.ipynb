{
 "cells": [
  {
   "cell_type": "code",
   "execution_count": 3,
   "metadata": {},
   "outputs": [],
   "source": [
    "import sys\n",
    "import mysql.connector\n",
    "import xlsxwriter\n",
    "import pandas as pd\n",
    "import sys\n",
    "import mysql.connector\n",
    "import numpy as np\n",
    "import os\n",
    "from dotenv import load_dotenv\n",
    "load_dotenv()\n",
    "#ESTE ARGUMENTO NO SE USA EN ESTE REPORTE, SERÁ 0 SIEMPRE UWU\n",
    "# id=str(sys.argv[1])\n",
    "id='82'\n",
    "DB_USERNAME = os.getenv('DB_USERNAME')\n",
    "DB_DATABASE = os.getenv('DB_DATABASE')\n",
    "DB_PASSWORD = os.getenv('DB_PASSWORD')\n",
    "DB_PORT = os.getenv('DB_PORT')\n",
    "\n",
    "\n",
    "# Conectar a DB\n",
    "cnx = mysql.connector.connect(user=DB_USERNAME,\n",
    "                              password=DB_PASSWORD,\n",
    "                              host='localhost',\n",
    "                              port=DB_PORT,\n",
    "                              database=DB_DATABASE,\n",
    "                              use_pure=False)\n",
    "\n",
    "cursor=cnx.cursor()"
   ]
  },
  {
   "cell_type": "code",
   "execution_count": 2,
   "metadata": {},
   "outputs": [],
   "source": [
    "loading=pd.read_excel('loading.xlsx')"
   ]
  },
  {
   "cell_type": "code",
   "execution_count": 9,
   "metadata": {},
   "outputs": [],
   "source": [
    "loading=loading.astype(str)"
   ]
  },
  {
   "cell_type": "code",
   "execution_count": 7,
   "metadata": {},
   "outputs": [],
   "source": [
    "query='INSERT INTO type_l_r_joist_loading_capacities(caliber,loading_capacity,crossbar_length,camber) values(%s,%s,%s,%s)'"
   ]
  },
  {
   "cell_type": "code",
   "execution_count": 10,
   "metadata": {},
   "outputs": [],
   "source": [
    "for i in range(len(loading)):\n",
    "    cursor.execute(query,tuple([loading['calibre'].values[i],\n",
    "                                loading['capacidad'].values[i],\n",
    "                                loading['longitud'].values[i],\n",
    "                                loading['peralte'].values[i],\n",
    "                                   ]))\n",
    "cnx.commit()"
   ]
  },
  {
   "cell_type": "code",
   "execution_count": 11,
   "metadata": {},
   "outputs": [],
   "source": [
    "lr=pd.read_excel('tablas_lr.xlsx')"
   ]
  },
  {
   "cell_type": "code",
   "execution_count": 16,
   "metadata": {},
   "outputs": [],
   "source": [
    "lr=lr.astype(str)"
   ]
  },
  {
   "cell_type": "code",
   "execution_count": 18,
   "metadata": {},
   "outputs": [
    {
     "data": {
      "text/plain": [
       "Index(['largo', 'sku', 'peso', 'm2', 'precio', 'peralte', 'calibre'], dtype='object')"
      ]
     },
     "execution_count": 18,
     "metadata": {},
     "output_type": "execute_result"
    }
   ],
   "source": [
    "lr.columns"
   ]
  },
  {
   "cell_type": "code",
   "execution_count": 24,
   "metadata": {},
   "outputs": [],
   "source": [
    "query='INSERT INTO type_l_r_joists(length,sku,weight,m2,price,camber,caliber) values(%s,%s,%s,%s,%s,%s,%s)'"
   ]
  },
  {
   "cell_type": "code",
   "execution_count": 26,
   "metadata": {},
   "outputs": [],
   "source": [
    "for i in range(len(lr)):\n",
    "    cursor.execute(query,tuple([lr['largo'].values[i],\n",
    "                                lr['sku'].values[i],\n",
    "                                lr['peso'].values[i],\n",
    "                                lr['m2'].values[i],\n",
    "                                lr['precio'].values[i],   \n",
    "                                lr['peralte'].values[i],\n",
    "                                lr['calibre'].values[i],\n",
    "                                   ]))\n",
    "cnx.commit()"
   ]
  },
  {
   "cell_type": "code",
   "execution_count": 7,
   "metadata": {},
   "outputs": [],
   "source": [
    "data=pd.read_excel('entpint.xlsx',sheet_name='ENTREPAÑO C-26',skiprows=[0,2])"
   ]
  },
  {
   "cell_type": "code",
   "execution_count": 10,
   "metadata": {},
   "outputs": [
    {
     "data": {
      "text/plain": [
       "Index(['DFONDO M', 'DFRENTE M', 'VFONDO M', 'VLARGO M', 'SKU', 'CALIBRE',\n",
       "       'KG / M2', 'PESO ', 'M2 ', 'PRECIO VENTA', 'CAPACIDAD DE CARGA (KG)',\n",
       "       'CON 1 REFUERZO', 'CON 2 REFUERZOS'],\n",
       "      dtype='object')"
      ]
     },
     "execution_count": 10,
     "metadata": {},
     "output_type": "execute_result"
    }
   ],
   "source": [
    "data.columns"
   ]
  },
  {
   "cell_type": "code",
   "execution_count": null,
   "metadata": {},
   "outputs": [],
   "source": [
    "query='INSERT INTO estanteria_entrepanio(development_deep,development_front,deep,length,sku,caliber,kgm2,weight,m2) values(%s,%s,%s,%s,%s,%s,%s)'"
   ]
  },
  {
   "cell_type": "code",
   "execution_count": null,
   "metadata": {},
   "outputs": [],
   "source": [
    "for i in range(len(data)):\n",
    "    cursor.execute(query,tuple([\n",
    "        data['DFONDO M'].values[i],\n",
    "        data['DFRENTE M'].values[i],\n",
    "        data['VFONDO M'].values[i],\n",
    "        data['VLARGO M'].values[i],\n",
    "        data['SKU'].values[i],\n",
    "        data['CALIBRE'].values[i],\n",
    "        data['KG / M2'].values[i],\n",
    "        data['PESO '].values[i],\n",
    "        data['M2 '].values[i],\n",
    "        data['CAPACIDAD DE CARGA (KG)'].values[i],\n",
    "        data['CON 1 REFUERZO'].values[i],\n",
    "        data['CON 2 REFUERZOS'].values[i],\n",
    "                                \n",
    "                                   ]))\n",
    "cnx.commit()"
   ]
  },
  {
   "cell_type": "code",
   "execution_count": 11,
   "metadata": {},
   "outputs": [
    {
     "name": "stdout",
     "output_type": "stream",
     "text": [
      "data['DFONDO M'].values[i],\n",
      "data['DFRENTE M'].values[i],\n",
      "data['VFONDO M'].values[i],\n",
      "data['VLARGO M'].values[i],\n",
      "data['SKU'].values[i],\n",
      "data['CALIBRE'].values[i],\n",
      "data['KG / M2'].values[i],\n",
      "data['PESO '].values[i],\n",
      "data['M2 '].values[i],\n",
      "data['PRECIO VENTA'].values[i],\n",
      "data['CAPACIDAD DE CARGA (KG)'].values[i],\n",
      "data['CON 1 REFUERZO'].values[i],\n",
      "data['CON 2 REFUERZOS'].values[i],\n"
     ]
    }
   ],
   "source": [
    "for i in data.columns:\n",
    "    print(\"data['\"+i+\"'].values[i],\")"
   ]
  },
  {
   "cell_type": "code",
   "execution_count": null,
   "metadata": {},
   "outputs": [],
   "source": []
  }
 ],
 "metadata": {
  "kernelspec": {
   "display_name": "Python 3",
   "language": "python",
   "name": "python3"
  },
  "language_info": {
   "codemirror_mode": {
    "name": "ipython",
    "version": 3
   },
   "file_extension": ".py",
   "mimetype": "text/x-python",
   "name": "python",
   "nbconvert_exporter": "python",
   "pygments_lexer": "ipython3",
   "version": "3.10.7"
  },
  "orig_nbformat": 4
 },
 "nbformat": 4,
 "nbformat_minor": 2
}
