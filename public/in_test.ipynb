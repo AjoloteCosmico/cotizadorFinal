{
 "cells": [
  {
   "cell_type": "code",
   "execution_count": 1,
   "metadata": {},
   "outputs": [],
   "source": [
    "import sys\n",
    "import mysql.connector\n",
    "import xlsxwriter\n",
    "import pandas as pd\n",
    "import sys\n",
    "import mysql.connector\n",
    "import numpy as np\n",
    "import os\n",
    "from dotenv import load_dotenv\n",
    "load_dotenv()\n",
    "#ESTE ARGUMENTO NO SE USA EN ESTE REPORTE, SERÁ 0 SIEMPRE UWU\n",
    "# id=str(sys.argv[1])\n",
    "id='82'\n",
    "DB_USERNAME = os.getenv('DB_USERNAME')\n",
    "DB_DATABASE = os.getenv('DB_DATABASE')\n",
    "DB_PASSWORD = os.getenv('DB_PASSWORD')\n",
    "DB_PORT = os.getenv('DB_PORT')\n",
    "\n",
    "\n",
    "# Conectar a DB\n",
    "cnx = mysql.connector.connect(user=DB_USERNAME,\n",
    "                              password=DB_PASSWORD,\n",
    "                              host='localhost',\n",
    "                              port=DB_PORT,\n",
    "                              database=DB_DATABASE,\n",
    "                              use_pure=False)\n",
    "\n",
    "cursor=cnx.cursor()"
   ]
  },
  {
   "cell_type": "code",
   "execution_count": 2,
   "metadata": {},
   "outputs": [],
   "source": [
    "loading=pd.read_excel('loading.xlsx')"
   ]
  },
  {
   "cell_type": "code",
   "execution_count": 9,
   "metadata": {},
   "outputs": [],
   "source": [
    "loading=loading.astype(str)"
   ]
  },
  {
   "cell_type": "code",
   "execution_count": 7,
   "metadata": {},
   "outputs": [],
   "source": [
    "query='INSERT INTO type_l_r_joist_loading_capacities(caliber,loading_capacity,crossbar_length,camber) values(%s,%s,%s,%s)'"
   ]
  },
  {
   "cell_type": "code",
   "execution_count": 10,
   "metadata": {},
   "outputs": [],
   "source": [
    "for i in range(len(loading)):\n",
    "    cursor.execute(query,tuple([loading['calibre'].values[i],\n",
    "                                loading['capacidad'].values[i],\n",
    "                                loading['longitud'].values[i],\n",
    "                                loading['peralte'].values[i],\n",
    "                                   ]))\n",
    "cnx.commit()"
   ]
  },
  {
   "cell_type": "code",
   "execution_count": 11,
   "metadata": {},
   "outputs": [],
   "source": [
    "lr=pd.read_excel('tablas_lr.xlsx')"
   ]
  },
  {
   "cell_type": "code",
   "execution_count": 16,
   "metadata": {},
   "outputs": [],
   "source": [
    "lr=lr.astype(str)"
   ]
  },
  {
   "cell_type": "code",
   "execution_count": 18,
   "metadata": {},
   "outputs": [
    {
     "data": {
      "text/plain": [
       "Index(['largo', 'sku', 'peso', 'm2', 'precio', 'peralte', 'calibre'], dtype='object')"
      ]
     },
     "execution_count": 18,
     "metadata": {},
     "output_type": "execute_result"
    }
   ],
   "source": [
    "lr.columns"
   ]
  },
  {
   "cell_type": "code",
   "execution_count": 24,
   "metadata": {},
   "outputs": [],
   "source": [
    "query='INSERT INTO type_l_r_joists(length,sku,weight,m2,price,camber,caliber) values(%s,%s,%s,%s,%s,%s,%s)'"
   ]
  },
  {
   "cell_type": "code",
   "execution_count": 26,
   "metadata": {},
   "outputs": [],
   "source": [
    "for i in range(len(lr)):\n",
    "    cursor.execute(query,tuple([lr['largo'].values[i],\n",
    "                                lr['sku'].values[i],\n",
    "                                lr['peso'].values[i],\n",
    "                                lr['m2'].values[i],\n",
    "                                lr['precio'].values[i],   \n",
    "                                lr['peralte'].values[i],\n",
    "                                lr['calibre'].values[i],\n",
    "                                   ]))\n",
    "cnx.commit()"
   ]
  },
  {
   "cell_type": "code",
   "execution_count": 27,
   "metadata": {},
   "outputs": [
    {
     "data": {
      "text/html": [
       "<div>\n",
       "<style scoped>\n",
       "    .dataframe tbody tr th:only-of-type {\n",
       "        vertical-align: middle;\n",
       "    }\n",
       "\n",
       "    .dataframe tbody tr th {\n",
       "        vertical-align: top;\n",
       "    }\n",
       "\n",
       "    .dataframe thead th {\n",
       "        text-align: right;\n",
       "    }\n",
       "</style>\n",
       "<table border=\"1\" class=\"dataframe\">\n",
       "  <thead>\n",
       "    <tr style=\"text-align: right;\">\n",
       "      <th></th>\n",
       "      <th>calibre</th>\n",
       "      <th>capacidad</th>\n",
       "      <th>longitud</th>\n",
       "      <th>peralte</th>\n",
       "    </tr>\n",
       "  </thead>\n",
       "  <tbody>\n",
       "    <tr>\n",
       "      <th>0</th>\n",
       "      <td>14</td>\n",
       "      <td>3240</td>\n",
       "      <td>1.22</td>\n",
       "      <td>3.0</td>\n",
       "    </tr>\n",
       "    <tr>\n",
       "      <th>1</th>\n",
       "      <td>14</td>\n",
       "      <td>2875</td>\n",
       "      <td>1.37</td>\n",
       "      <td>3.0</td>\n",
       "    </tr>\n",
       "    <tr>\n",
       "      <th>2</th>\n",
       "      <td>14</td>\n",
       "      <td>2590</td>\n",
       "      <td>1.52</td>\n",
       "      <td>3.0</td>\n",
       "    </tr>\n",
       "    <tr>\n",
       "      <th>3</th>\n",
       "      <td>14</td>\n",
       "      <td>1830</td>\n",
       "      <td>2.13</td>\n",
       "      <td>3.0</td>\n",
       "    </tr>\n",
       "    <tr>\n",
       "      <th>4</th>\n",
       "      <td>14</td>\n",
       "      <td>1595</td>\n",
       "      <td>2.29</td>\n",
       "      <td>3.0</td>\n",
       "    </tr>\n",
       "    <tr>\n",
       "      <th>...</th>\n",
       "      <td>...</td>\n",
       "      <td>...</td>\n",
       "      <td>...</td>\n",
       "      <td>...</td>\n",
       "    </tr>\n",
       "    <tr>\n",
       "      <th>191</th>\n",
       "      <td>15</td>\n",
       "      <td>3880</td>\n",
       "      <td>2.89</td>\n",
       "      <td>6.0</td>\n",
       "    </tr>\n",
       "    <tr>\n",
       "      <th>192</th>\n",
       "      <td>15</td>\n",
       "      <td>3685</td>\n",
       "      <td>3.05</td>\n",
       "      <td>6.0</td>\n",
       "    </tr>\n",
       "    <tr>\n",
       "      <th>193</th>\n",
       "      <td>15</td>\n",
       "      <td>3350</td>\n",
       "      <td>3.35</td>\n",
       "      <td>6.0</td>\n",
       "    </tr>\n",
       "    <tr>\n",
       "      <th>194</th>\n",
       "      <td>15</td>\n",
       "      <td>3205</td>\n",
       "      <td>3.5</td>\n",
       "      <td>6.0</td>\n",
       "    </tr>\n",
       "    <tr>\n",
       "      <th>195</th>\n",
       "      <td>15</td>\n",
       "      <td>2610</td>\n",
       "      <td>3.66</td>\n",
       "      <td>6.0</td>\n",
       "    </tr>\n",
       "  </tbody>\n",
       "</table>\n",
       "<p>196 rows × 4 columns</p>\n",
       "</div>"
      ],
      "text/plain": [
       "    calibre capacidad longitud peralte\n",
       "0        14      3240     1.22     3.0\n",
       "1        14      2875     1.37     3.0\n",
       "2        14      2590     1.52     3.0\n",
       "3        14      1830     2.13     3.0\n",
       "4        14      1595     2.29     3.0\n",
       "..      ...       ...      ...     ...\n",
       "191      15      3880     2.89     6.0\n",
       "192      15      3685     3.05     6.0\n",
       "193      15      3350     3.35     6.0\n",
       "194      15      3205      3.5     6.0\n",
       "195      15      2610     3.66     6.0\n",
       "\n",
       "[196 rows x 4 columns]"
      ]
     },
     "execution_count": 27,
     "metadata": {},
     "output_type": "execute_result"
    }
   ],
   "source": [
    "loading"
   ]
  },
  {
   "cell_type": "code",
   "execution_count": null,
   "metadata": {},
   "outputs": [],
   "source": []
  }
 ],
 "metadata": {
  "kernelspec": {
   "display_name": "Python 3",
   "language": "python",
   "name": "python3"
  },
  "language_info": {
   "codemirror_mode": {
    "name": "ipython",
    "version": 3
   },
   "file_extension": ".py",
   "mimetype": "text/x-python",
   "name": "python",
   "nbconvert_exporter": "python",
   "pygments_lexer": "ipython3",
   "version": "3.10.7"
  },
  "orig_nbformat": 4
 },
 "nbformat": 4,
 "nbformat_minor": 2
}
