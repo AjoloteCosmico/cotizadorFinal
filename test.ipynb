{
 "cells": [
  {
   "cell_type": "code",
   "execution_count": 23,
   "metadata": {},
   "outputs": [],
   "source": [
    "import sys\n",
    "import mysql.connector\n",
    "import xlsxwriter\n",
    "import pandas as pd\n",
    "import sys\n",
    "import mysql.connector\n",
    "import os\n",
    "from dotenv import load_dotenv\n",
    "load_dotenv()\n",
    "#ESTE ARGUMENTO NO SE USA EN ESTE REPORTE, SERÁ 0 SIEMPRE UWU\n",
    "id=str(sys.argv[1])\n",
    "#configurar la conexion a la base de datos\n",
    "DB_USERNAME = os.getenv('DB_USERNAME')\n",
    "DB_DATABASE = os.getenv('DB_DATABASE')\n",
    "DB_PASSWORD = os.getenv('DB_PASSWORD')\n",
    "DB_PORT = os.getenv('DB_PORT')\n",
    "\n",
    "a_color='#354F84'\n",
    "b_color='#91959E'\n",
    "# Conectar a DB\n",
    "cnx = mysql.connector.connect(user=DB_USERNAME,\n",
    "                              password=DB_PASSWORD,\n",
    "                              host='localhost',\n",
    "                              port=DB_PORT,\n",
    "                              database=DB_DATABASE,\n",
    "                              use_pure=False)\n"
   ]
  },
  {
   "cell_type": "code",
   "execution_count": 4,
   "metadata": {},
   "outputs": [
    {
     "name": "stderr",
     "output_type": "stream",
     "text": [
      "C:\\Users\\hp\\AppData\\Local\\Temp\\ipykernel_7172\\1387564387.py:1: UserWarning: pandas only supports SQLAlchemy connectable (engine/connection) or database string URI or sqlite3 DBAPI2 connection. Other DBAPI2 objects are not tested. Please consider using SQLAlchemy.\n",
      "  Destinations=pd.read_sql('select * from destinations', cnx)\n"
     ]
    }
   ],
   "source": [
    "Destinations=pd.read_sql('select * from destinations', cnx)"
   ]
  },
  {
   "cell_type": "code",
   "execution_count": 12,
   "metadata": {},
   "outputs": [],
   "source": [
    "Unidades=Destinations['unit'].unique()\n",
    "Estados=Destinations['state'].unique()"
   ]
  },
  {
   "cell_type": "code",
   "execution_count": 21,
   "metadata": {},
   "outputs": [
    {
     "name": "stdout",
     "output_type": "stream",
     "text": [
      "Estado de México 3.5 T 2.0\n",
      "Estado de México Pequeña 900.0\n",
      "Estado de México Torthon 2.0\n",
      "Estado de México Trailer 4.0\n",
      "Jalisco 3.5 T 10.0\n",
      "Jalisco Pequeña 10.0\n",
      "Jalisco Torthon 21.0\n",
      "Jalisco Trailer 42.0\n",
      "CDMX 3.5 T 1.0\n",
      "CDMX Pequeña 1.0\n",
      "CDMX Torthon 2.0\n",
      "CDMX Trailer 5.0\n",
      "Guanajuato 3.5 T 7.0\n",
      "Guanajuato Pequeña 7.0\n",
      "Guanajuato Torthon 15.0\n",
      "Guanajuato Trailer 30.0\n",
      "Nuevo León 3.5 T 8.0\n",
      "Nuevo León Pequeña 8.0\n",
      "Nuevo León Torthon 17.0\n",
      "Nuevo León Trailer 34.0\n",
      "Qurétaro 3.5 T 6.0\n",
      "Qurétaro Pequeña 6.0\n",
      "Qurétaro Torthon 13.0\n",
      "Qurétaro Trailer 26.0\n",
      "MEXICO Pequeña 350.0\n"
     ]
    }
   ],
   "source": [
    "for i in Estados:\n",
    "    for j in Unidades:\n",
    "        MyDestiny=Destinations.loc[(Destinations['unit']==j)&(Destinations['state']==i)]\n",
    "        if(len(MyDestiny)>0):\n",
    "            print(i,j,MyDestiny['cost'].values[0])\n",
    "            mySql_insert_query = \"\"\"INSERT INTO price_lists ( \n",
    "                description, caliber, type, system, piece , cost ,\n",
    "                f_vta, f_desp, f_emb, f_desc,f_total) \n",
    "                                VALUES (%s, %s, %s, %s, %s,%s, %s, %s, %s, %s,%s) \"\"\"\n",
    "\n",
    "            record = ('Destino '+str(i)+ ' Unidad '+str(j), i, '-', 'DESTINO',i,MyDestiny['cost'].values[0],1.6,2,1.015,0.95,3.419)\n",
    "            cursor.execute(mySql_insert_query, record)\n",
    "            cnx.commit()\n",
    "           "
   ]
  },
  {
   "cell_type": "code",
   "execution_count": 1,
   "metadata": {},
   "outputs": [],
   "source": [
    "tablas=['double_deep_crossbars', \n",
    "'double_deep_floors', \n",
    "'double_deep_floor_reinforcements', \n",
    "'double_deep_heavy_load_frames', \n",
    "'double_deep_joist_box25s', \n",
    "'double_deep_joist_box25_caliber14s', \n",
    "'double_deep_joist_box2s', \n",
    "'double_deep_joist_box2_caliber14s', \n",
    "'double_deep_joist_c2_s', \n",
    "'double_deep_joist_chairs', \n",
    "'double_deep_joist_l25_caliber14s', \n",
    "'double_deep_joist_l25_s', \n",
    "'double_deep_joist_l2_caliber14s', \n",
    "'double_deep_joist_l2_s', \n",
    "'double_deep_joist_lrs', \n",
    "'double_deep_joist_structurals', \n",
    "'double_deep_miniature_frames', \n",
    "'double_deep_spacers', \n",
    "'double_deep_structural_frames', \n",
    "'freights', \n",
    "'grills', \n",
    "'installations', \n",
    "'packagings', \n",
    "'quot25_j_galvanized_panels', \n",
    "'quot25_j_painted_panels', \n",
    "'quot2_j_galvanized_panels', \n",
    "'quot2_j_painted_panels', \n",
    "'quotation_administratives', \n",
    "'quotation_installs', \n",
    "'quotation_protectors', \n",
    "'quotation_specials', \n",
    "'quotation_travel_assignments', \n",
    "'quotation_uninstalls', \n",
    "'quot_chair_j_galvanized_panels', \n",
    "'quot_chair_j_painted_panels', \n",
    "'selective_crossbars', \n",
    "'selective_floors', \n",
    "'selective_floor_reinforcements', \n",
    "'selective_heavy_load_frames', \n",
    "'selective_joist_box25s', \n",
    "'selective_joist_box25_caliber14s', \n",
    "'selective_joist_box2s', \n",
    "'selective_joist_box2_caliber14s', \n",
    "'selective_joist_c2_s', \n",
    "'selective_joist_chairs', \n",
    "'selective_joist_l25_caliber14s', \n",
    "'selective_joist_l25_s', \n",
    "'selective_joist_l2_caliber14s', \n",
    "'selective_joist_l2_s', \n",
    "'selective_joist_lrs', \n",
    "'selective_joist_structurals', \n",
    "'selective_miniature_frames', \n",
    "'selective_spacers', \n",
    "'selective_structural_frames', \n",
    "'uninstalls', \n",
    "'wood', ]"
   ]
  },
  {
   "cell_type": "code",
   "execution_count": 2,
   "metadata": {},
   "outputs": [
    {
     "name": "stdout",
     "output_type": "stream",
     "text": [
      "'double_deep_crossbars' : 'double deep crossbars',\n",
      "'double_deep_floors' : 'double deep floors',\n",
      "'double_deep_floor_reinforcements' : 'double deep floor reinforcements',\n",
      "'double_deep_heavy_load_frames' : 'double deep heavy load frames',\n",
      "'double_deep_joist_box25s' : 'double deep joist box25s',\n",
      "'double_deep_joist_box25_caliber14s' : 'double deep joist box25 caliber14s',\n",
      "'double_deep_joist_box2s' : 'double deep joist box2s',\n",
      "'double_deep_joist_box2_caliber14s' : 'double deep joist box2 caliber14s',\n",
      "'double_deep_joist_c2_s' : 'double deep joist c2 s',\n",
      "'double_deep_joist_chairs' : 'double deep joist chairs',\n",
      "'double_deep_joist_l25_caliber14s' : 'double deep joist l25 caliber14s',\n",
      "'double_deep_joist_l25_s' : 'double deep joist l25 s',\n",
      "'double_deep_joist_l2_caliber14s' : 'double deep joist l2 caliber14s',\n",
      "'double_deep_joist_l2_s' : 'double deep joist l2 s',\n",
      "'double_deep_joist_lrs' : 'double deep joist lrs',\n",
      "'double_deep_joist_structurals' : 'double deep joist structurals',\n",
      "'double_deep_miniature_frames' : 'double deep miniature frames',\n",
      "'double_deep_spacers' : 'double deep spacers',\n",
      "'double_deep_structural_frames' : 'double deep structural frames',\n",
      "'freights' : 'freights',\n",
      "'grills' : 'grills',\n",
      "'installations' : 'installations',\n",
      "'packagings' : 'packagings',\n",
      "'quot25_j_galvanized_panels' : 'quot25 j galvanized panels',\n",
      "'quot25_j_painted_panels' : 'quot25 j painted panels',\n",
      "'quot2_j_galvanized_panels' : 'quot2 j galvanized panels',\n",
      "'quot2_j_painted_panels' : 'quot2 j painted panels',\n",
      "'quotation_administratives' : 'quotation administratives',\n",
      "'quotation_installs' : 'quotation installs',\n",
      "'quotation_protectors' : 'quotation protectors',\n",
      "'quotation_specials' : 'quotation specials',\n",
      "'quotation_travel_assignments' : 'quotation travel assignments',\n",
      "'quotation_uninstalls' : 'quotation uninstalls',\n",
      "'quot_chair_j_galvanized_panels' : 'quot chair j galvanized panels',\n",
      "'quot_chair_j_painted_panels' : 'quot chair j painted panels',\n",
      "'selective_crossbars' : 'selective crossbars',\n",
      "'selective_floors' : 'selective floors',\n",
      "'selective_floor_reinforcements' : 'selective floor reinforcements',\n",
      "'selective_heavy_load_frames' : 'selective heavy load frames',\n",
      "'selective_joist_box25s' : 'selective joist box25s',\n",
      "'selective_joist_box25_caliber14s' : 'selective joist box25 caliber14s',\n",
      "'selective_joist_box2s' : 'selective joist box2s',\n",
      "'selective_joist_box2_caliber14s' : 'selective joist box2 caliber14s',\n",
      "'selective_joist_c2_s' : 'selective joist c2 s',\n",
      "'selective_joist_chairs' : 'selective joist chairs',\n",
      "'selective_joist_l25_caliber14s' : 'selective joist l25 caliber14s',\n",
      "'selective_joist_l25_s' : 'selective joist l25 s',\n",
      "'selective_joist_l2_caliber14s' : 'selective joist l2 caliber14s',\n",
      "'selective_joist_l2_s' : 'selective joist l2 s',\n",
      "'selective_joist_lrs' : 'selective joist lrs',\n",
      "'selective_joist_structurals' : 'selective joist structurals',\n",
      "'selective_miniature_frames' : 'selective miniature frames',\n",
      "'selective_spacers' : 'selective spacers',\n",
      "'selective_structural_frames' : 'selective structural frames',\n",
      "'uninstalls' : 'uninstalls',\n",
      "'wood' : 'wood',\n"
     ]
    }
   ],
   "source": [
    "for i in tablas:\n",
    "    print(\"'\"+i+\"' : '\"+i.replace('_',' ')+\"',\")"
   ]
  },
  {
   "cell_type": "code",
   "execution_count": 24,
   "metadata": {},
   "outputs": [
    {
     "name": "stderr",
     "output_type": "stream",
     "text": [
      "c:\\Users\\fgonzalez\\AppData\\Local\\Programs\\Python\\Python310\\lib\\site-packages\\pandas\\io\\sql.py:762: UserWarning: pandas only support SQLAlchemy connectable(engine/connection) ordatabase string URI or sqlite3 DBAPI2 connectionother DBAPI2 objects are not tested, please consider using SQLAlchemy\n",
      "  warnings.warn(\n"
     ]
    }
   ],
   "source": [
    "tablas={'double_deep_crossbars' : 'double deep crossbars',\n",
    "'double_deep_floors' : 'double deep floors',\n",
    "'double_deep_floor_reinforcements' : 'double deep floor reinforcements',\n",
    "'double_deep_heavy_load_frames' : 'double deep heavy load frames',\n",
    "'double_deep_joist_box25s' : 'double deep joist box25s',\n",
    "'double_deep_joist_box25_caliber14s' : 'double deep joist box25 caliber14s',\n",
    "'double_deep_joist_box2s' : 'double deep joist box2s',\n",
    "'double_deep_joist_box2_caliber14s' : 'double deep joist box2 caliber14s',\n",
    "'double_deep_joist_c2_s' : 'double deep joist c2 s',\n",
    "'double_deep_joist_chairs' : 'double deep joist chairs',\n",
    "'double_deep_joist_l25_caliber14s' : 'double deep joist l25 caliber14s',\n",
    "'double_deep_joist_l25_s' : 'double deep joist l25 s',\n",
    "'double_deep_joist_l2_caliber14s' : 'double deep joist l2 caliber14s',\n",
    "'double_deep_joist_l2_s' : 'double deep joist l2 s',\n",
    "'double_deep_joist_lrs' : 'double deep joist lrs',\n",
    "'double_deep_joist_structurals' : 'double deep joist structurals',\n",
    "'double_deep_miniature_frames' : 'double deep miniature frames',\n",
    "'double_deep_spacers' : 'double deep spacers',\n",
    "'double_deep_structural_frames' : 'double deep structural frames',\n",
    "'freights' : 'freights',\n",
    "'grills' : 'grills',\n",
    "'installations' : 'installations',\n",
    "'packagings' : 'packagings',\n",
    "'quot25_j_galvanized_panels' : 'quot25 j galvanized panels',\n",
    "'quot25_j_painted_panels' : 'quot25 j painted panels',\n",
    "'quot2_j_galvanized_panels' : 'quot2 j galvanized panels',\n",
    "'quot2_j_painted_panels' : 'quot2 j painted panels',\n",
    "'quotation_administratives' : 'quotation administratives',\n",
    "'quotation_installs' : 'quotation installs',\n",
    "'quotation_protectors' : 'quotation protectors',\n",
    "'quotation_specials' : 'quotation specials',\n",
    "'quotation_travel_assignments' : 'quotation travel assignments',\n",
    "'quotation_uninstalls' : 'quotation uninstalls',\n",
    "'quot_chair_j_galvanized_panels' : 'quot chair j galvanized panels',\n",
    "'quot_chair_j_painted_panels' : 'quot chair j painted panels',\n",
    "'selective_crossbars' : 'selective crossbars',\n",
    "'selective_floors' : 'selective floors',\n",
    "'selective_floor_reinforcements' : 'selective floor reinforcements',\n",
    "'selective_heavy_load_frames' : 'selective heavy load frames',\n",
    "'selective_joist_box25s' : 'selective joist box25s',\n",
    "'selective_joist_box25_caliber14s' : 'selective joist box25 caliber14s',\n",
    "'selective_joist_box2s' : 'selective joist box2s',\n",
    "'selective_joist_box2_caliber14s' : 'selective joist box2 caliber14s',\n",
    "'selective_joist_c2_s' : 'selective joist c2 s',\n",
    "'selective_joist_chairs' : 'selective joist chairs',\n",
    "'selective_joist_l25_caliber14s' : 'selective joist l25 caliber14s',\n",
    "'selective_joist_l25_s' : 'selective joist l25 s',\n",
    "'selective_joist_l2_caliber14s' : 'selective joist l2 caliber14s',\n",
    "'selective_joist_l2_s' : 'selective joist l2 s',\n",
    "'selective_joist_lrs' : 'selective joist lrs',\n",
    "'selective_joist_structurals' : 'selective joist structurals',\n",
    "'selective_miniature_frames' : 'selective miniature frames',\n",
    "'selective_spacers' : 'selective spacers',\n",
    "'selective_structural_frames' : 'selective structural frames',\n",
    "'uninstalls' : 'uninstalls',\n",
    "'wood' : 'wood',}\n",
    "id=68\n",
    "aceros=pd.read_sql('select * from steels ',cnx)\n",
    "    "
   ]
  },
  {
   "cell_type": "code",
   "execution_count": 17,
   "metadata": {},
   "outputs": [
    {
     "data": {
      "text/plain": [
       "'selective structural frames'"
      ]
     },
     "execution_count": 17,
     "metadata": {},
     "output_type": "execute_result"
    }
   ],
   "source": [
    "tablas['selective_structural_frames']"
   ]
  },
  {
   "cell_type": "code",
   "execution_count": 21,
   "metadata": {},
   "outputs": [
    {
     "name": "stderr",
     "output_type": "stream",
     "text": [
      "c:\\Users\\fgonzalez\\AppData\\Local\\Programs\\Python\\Python310\\lib\\site-packages\\pandas\\io\\sql.py:762: UserWarning: pandas only support SQLAlchemy connectable(engine/connection) ordatabase string URI or sqlite3 DBAPI2 connectionother DBAPI2 objects are not tested, please consider using SQLAlchemy\n",
      "  warnings.warn(\n",
      "C:\\Users\\fgonzalez\\AppData\\Local\\Temp\\ipykernel_10916\\3548553174.py:10: FutureWarning: The frame.append method is deprecated and will be removed from pandas in a future version. Use pandas.concat instead.\n",
      "  products=products.append(p)\n",
      "c:\\Users\\fgonzalez\\AppData\\Local\\Programs\\Python\\Python310\\lib\\site-packages\\pandas\\io\\sql.py:762: UserWarning: pandas only support SQLAlchemy connectable(engine/connection) ordatabase string URI or sqlite3 DBAPI2 connectionother DBAPI2 objects are not tested, please consider using SQLAlchemy\n",
      "  warnings.warn(\n",
      "C:\\Users\\fgonzalez\\AppData\\Local\\Temp\\ipykernel_10916\\3548553174.py:10: FutureWarning: The frame.append method is deprecated and will be removed from pandas in a future version. Use pandas.concat instead.\n",
      "  products=products.append(p)\n",
      "c:\\Users\\fgonzalez\\AppData\\Local\\Programs\\Python\\Python310\\lib\\site-packages\\pandas\\io\\sql.py:762: UserWarning: pandas only support SQLAlchemy connectable(engine/connection) ordatabase string URI or sqlite3 DBAPI2 connectionother DBAPI2 objects are not tested, please consider using SQLAlchemy\n",
      "  warnings.warn(\n",
      "C:\\Users\\fgonzalez\\AppData\\Local\\Temp\\ipykernel_10916\\3548553174.py:10: FutureWarning: The frame.append method is deprecated and will be removed from pandas in a future version. Use pandas.concat instead.\n",
      "  products=products.append(p)\n",
      "c:\\Users\\fgonzalez\\AppData\\Local\\Programs\\Python\\Python310\\lib\\site-packages\\pandas\\io\\sql.py:762: UserWarning: pandas only support SQLAlchemy connectable(engine/connection) ordatabase string URI or sqlite3 DBAPI2 connectionother DBAPI2 objects are not tested, please consider using SQLAlchemy\n",
      "  warnings.warn(\n",
      "C:\\Users\\fgonzalez\\AppData\\Local\\Temp\\ipykernel_10916\\3548553174.py:10: FutureWarning: The frame.append method is deprecated and will be removed from pandas in a future version. Use pandas.concat instead.\n",
      "  products=products.append(p)\n",
      "c:\\Users\\fgonzalez\\AppData\\Local\\Programs\\Python\\Python310\\lib\\site-packages\\pandas\\io\\sql.py:762: UserWarning: pandas only support SQLAlchemy connectable(engine/connection) ordatabase string URI or sqlite3 DBAPI2 connectionother DBAPI2 objects are not tested, please consider using SQLAlchemy\n",
      "  warnings.warn(\n",
      "C:\\Users\\fgonzalez\\AppData\\Local\\Temp\\ipykernel_10916\\3548553174.py:10: FutureWarning: The frame.append method is deprecated and will be removed from pandas in a future version. Use pandas.concat instead.\n",
      "  products=products.append(p)\n",
      "c:\\Users\\fgonzalez\\AppData\\Local\\Programs\\Python\\Python310\\lib\\site-packages\\pandas\\io\\sql.py:762: UserWarning: pandas only support SQLAlchemy connectable(engine/connection) ordatabase string URI or sqlite3 DBAPI2 connectionother DBAPI2 objects are not tested, please consider using SQLAlchemy\n",
      "  warnings.warn(\n",
      "C:\\Users\\fgonzalez\\AppData\\Local\\Temp\\ipykernel_10916\\3548553174.py:10: FutureWarning: The frame.append method is deprecated and will be removed from pandas in a future version. Use pandas.concat instead.\n",
      "  products=products.append(p)\n",
      "c:\\Users\\fgonzalez\\AppData\\Local\\Programs\\Python\\Python310\\lib\\site-packages\\pandas\\io\\sql.py:762: UserWarning: pandas only support SQLAlchemy connectable(engine/connection) ordatabase string URI or sqlite3 DBAPI2 connectionother DBAPI2 objects are not tested, please consider using SQLAlchemy\n",
      "  warnings.warn(\n",
      "C:\\Users\\fgonzalez\\AppData\\Local\\Temp\\ipykernel_10916\\3548553174.py:10: FutureWarning: The frame.append method is deprecated and will be removed from pandas in a future version. Use pandas.concat instead.\n",
      "  products=products.append(p)\n",
      "c:\\Users\\fgonzalez\\AppData\\Local\\Programs\\Python\\Python310\\lib\\site-packages\\pandas\\io\\sql.py:762: UserWarning: pandas only support SQLAlchemy connectable(engine/connection) ordatabase string URI or sqlite3 DBAPI2 connectionother DBAPI2 objects are not tested, please consider using SQLAlchemy\n",
      "  warnings.warn(\n",
      "C:\\Users\\fgonzalez\\AppData\\Local\\Temp\\ipykernel_10916\\3548553174.py:10: FutureWarning: The frame.append method is deprecated and will be removed from pandas in a future version. Use pandas.concat instead.\n",
      "  products=products.append(p)\n",
      "c:\\Users\\fgonzalez\\AppData\\Local\\Programs\\Python\\Python310\\lib\\site-packages\\pandas\\io\\sql.py:762: UserWarning: pandas only support SQLAlchemy connectable(engine/connection) ordatabase string URI or sqlite3 DBAPI2 connectionother DBAPI2 objects are not tested, please consider using SQLAlchemy\n",
      "  warnings.warn(\n",
      "C:\\Users\\fgonzalez\\AppData\\Local\\Temp\\ipykernel_10916\\3548553174.py:10: FutureWarning: The frame.append method is deprecated and will be removed from pandas in a future version. Use pandas.concat instead.\n",
      "  products=products.append(p)\n",
      "c:\\Users\\fgonzalez\\AppData\\Local\\Programs\\Python\\Python310\\lib\\site-packages\\pandas\\io\\sql.py:762: UserWarning: pandas only support SQLAlchemy connectable(engine/connection) ordatabase string URI or sqlite3 DBAPI2 connectionother DBAPI2 objects are not tested, please consider using SQLAlchemy\n",
      "  warnings.warn(\n",
      "C:\\Users\\fgonzalez\\AppData\\Local\\Temp\\ipykernel_10916\\3548553174.py:10: FutureWarning: The frame.append method is deprecated and will be removed from pandas in a future version. Use pandas.concat instead.\n",
      "  products=products.append(p)\n",
      "c:\\Users\\fgonzalez\\AppData\\Local\\Programs\\Python\\Python310\\lib\\site-packages\\pandas\\io\\sql.py:762: UserWarning: pandas only support SQLAlchemy connectable(engine/connection) ordatabase string URI or sqlite3 DBAPI2 connectionother DBAPI2 objects are not tested, please consider using SQLAlchemy\n",
      "  warnings.warn(\n",
      "C:\\Users\\fgonzalez\\AppData\\Local\\Temp\\ipykernel_10916\\3548553174.py:10: FutureWarning: The frame.append method is deprecated and will be removed from pandas in a future version. Use pandas.concat instead.\n",
      "  products=products.append(p)\n",
      "c:\\Users\\fgonzalez\\AppData\\Local\\Programs\\Python\\Python310\\lib\\site-packages\\pandas\\io\\sql.py:762: UserWarning: pandas only support SQLAlchemy connectable(engine/connection) ordatabase string URI or sqlite3 DBAPI2 connectionother DBAPI2 objects are not tested, please consider using SQLAlchemy\n",
      "  warnings.warn(\n",
      "C:\\Users\\fgonzalez\\AppData\\Local\\Temp\\ipykernel_10916\\3548553174.py:10: FutureWarning: The frame.append method is deprecated and will be removed from pandas in a future version. Use pandas.concat instead.\n",
      "  products=products.append(p)\n",
      "c:\\Users\\fgonzalez\\AppData\\Local\\Programs\\Python\\Python310\\lib\\site-packages\\pandas\\io\\sql.py:762: UserWarning: pandas only support SQLAlchemy connectable(engine/connection) ordatabase string URI or sqlite3 DBAPI2 connectionother DBAPI2 objects are not tested, please consider using SQLAlchemy\n",
      "  warnings.warn(\n",
      "C:\\Users\\fgonzalez\\AppData\\Local\\Temp\\ipykernel_10916\\3548553174.py:10: FutureWarning: The frame.append method is deprecated and will be removed from pandas in a future version. Use pandas.concat instead.\n",
      "  products=products.append(p)\n",
      "c:\\Users\\fgonzalez\\AppData\\Local\\Programs\\Python\\Python310\\lib\\site-packages\\pandas\\io\\sql.py:762: UserWarning: pandas only support SQLAlchemy connectable(engine/connection) ordatabase string URI or sqlite3 DBAPI2 connectionother DBAPI2 objects are not tested, please consider using SQLAlchemy\n",
      "  warnings.warn(\n",
      "C:\\Users\\fgonzalez\\AppData\\Local\\Temp\\ipykernel_10916\\3548553174.py:10: FutureWarning: The frame.append method is deprecated and will be removed from pandas in a future version. Use pandas.concat instead.\n",
      "  products=products.append(p)\n",
      "c:\\Users\\fgonzalez\\AppData\\Local\\Programs\\Python\\Python310\\lib\\site-packages\\pandas\\io\\sql.py:762: UserWarning: pandas only support SQLAlchemy connectable(engine/connection) ordatabase string URI or sqlite3 DBAPI2 connectionother DBAPI2 objects are not tested, please consider using SQLAlchemy\n",
      "  warnings.warn(\n",
      "C:\\Users\\fgonzalez\\AppData\\Local\\Temp\\ipykernel_10916\\3548553174.py:10: FutureWarning: The frame.append method is deprecated and will be removed from pandas in a future version. Use pandas.concat instead.\n",
      "  products=products.append(p)\n",
      "c:\\Users\\fgonzalez\\AppData\\Local\\Programs\\Python\\Python310\\lib\\site-packages\\pandas\\io\\sql.py:762: UserWarning: pandas only support SQLAlchemy connectable(engine/connection) ordatabase string URI or sqlite3 DBAPI2 connectionother DBAPI2 objects are not tested, please consider using SQLAlchemy\n",
      "  warnings.warn(\n",
      "C:\\Users\\fgonzalez\\AppData\\Local\\Temp\\ipykernel_10916\\3548553174.py:10: FutureWarning: The frame.append method is deprecated and will be removed from pandas in a future version. Use pandas.concat instead.\n",
      "  products=products.append(p)\n",
      "c:\\Users\\fgonzalez\\AppData\\Local\\Programs\\Python\\Python310\\lib\\site-packages\\pandas\\io\\sql.py:762: UserWarning: pandas only support SQLAlchemy connectable(engine/connection) ordatabase string URI or sqlite3 DBAPI2 connectionother DBAPI2 objects are not tested, please consider using SQLAlchemy\n",
      "  warnings.warn(\n",
      "C:\\Users\\fgonzalez\\AppData\\Local\\Temp\\ipykernel_10916\\3548553174.py:10: FutureWarning: The frame.append method is deprecated and will be removed from pandas in a future version. Use pandas.concat instead.\n",
      "  products=products.append(p)\n",
      "c:\\Users\\fgonzalez\\AppData\\Local\\Programs\\Python\\Python310\\lib\\site-packages\\pandas\\io\\sql.py:762: UserWarning: pandas only support SQLAlchemy connectable(engine/connection) ordatabase string URI or sqlite3 DBAPI2 connectionother DBAPI2 objects are not tested, please consider using SQLAlchemy\n",
      "  warnings.warn(\n",
      "C:\\Users\\fgonzalez\\AppData\\Local\\Temp\\ipykernel_10916\\3548553174.py:10: FutureWarning: The frame.append method is deprecated and will be removed from pandas in a future version. Use pandas.concat instead.\n",
      "  products=products.append(p)\n",
      "c:\\Users\\fgonzalez\\AppData\\Local\\Programs\\Python\\Python310\\lib\\site-packages\\pandas\\io\\sql.py:762: UserWarning: pandas only support SQLAlchemy connectable(engine/connection) ordatabase string URI or sqlite3 DBAPI2 connectionother DBAPI2 objects are not tested, please consider using SQLAlchemy\n",
      "  warnings.warn(\n",
      "C:\\Users\\fgonzalez\\AppData\\Local\\Temp\\ipykernel_10916\\3548553174.py:10: FutureWarning: The frame.append method is deprecated and will be removed from pandas in a future version. Use pandas.concat instead.\n",
      "  products=products.append(p)\n",
      "c:\\Users\\fgonzalez\\AppData\\Local\\Programs\\Python\\Python310\\lib\\site-packages\\pandas\\io\\sql.py:762: UserWarning: pandas only support SQLAlchemy connectable(engine/connection) ordatabase string URI or sqlite3 DBAPI2 connectionother DBAPI2 objects are not tested, please consider using SQLAlchemy\n",
      "  warnings.warn(\n",
      "C:\\Users\\fgonzalez\\AppData\\Local\\Temp\\ipykernel_10916\\3548553174.py:10: FutureWarning: The frame.append method is deprecated and will be removed from pandas in a future version. Use pandas.concat instead.\n",
      "  products=products.append(p)\n",
      "c:\\Users\\fgonzalez\\AppData\\Local\\Programs\\Python\\Python310\\lib\\site-packages\\pandas\\io\\sql.py:762: UserWarning: pandas only support SQLAlchemy connectable(engine/connection) ordatabase string URI or sqlite3 DBAPI2 connectionother DBAPI2 objects are not tested, please consider using SQLAlchemy\n",
      "  warnings.warn(\n",
      "C:\\Users\\fgonzalez\\AppData\\Local\\Temp\\ipykernel_10916\\3548553174.py:10: FutureWarning: The frame.append method is deprecated and will be removed from pandas in a future version. Use pandas.concat instead.\n",
      "  products=products.append(p)\n",
      "c:\\Users\\fgonzalez\\AppData\\Local\\Programs\\Python\\Python310\\lib\\site-packages\\pandas\\io\\sql.py:762: UserWarning: pandas only support SQLAlchemy connectable(engine/connection) ordatabase string URI or sqlite3 DBAPI2 connectionother DBAPI2 objects are not tested, please consider using SQLAlchemy\n",
      "  warnings.warn(\n",
      "C:\\Users\\fgonzalez\\AppData\\Local\\Temp\\ipykernel_10916\\3548553174.py:10: FutureWarning: The frame.append method is deprecated and will be removed from pandas in a future version. Use pandas.concat instead.\n",
      "  products=products.append(p)\n",
      "c:\\Users\\fgonzalez\\AppData\\Local\\Programs\\Python\\Python310\\lib\\site-packages\\pandas\\io\\sql.py:762: UserWarning: pandas only support SQLAlchemy connectable(engine/connection) ordatabase string URI or sqlite3 DBAPI2 connectionother DBAPI2 objects are not tested, please consider using SQLAlchemy\n",
      "  warnings.warn(\n",
      "C:\\Users\\fgonzalez\\AppData\\Local\\Temp\\ipykernel_10916\\3548553174.py:10: FutureWarning: The frame.append method is deprecated and will be removed from pandas in a future version. Use pandas.concat instead.\n",
      "  products=products.append(p)\n",
      "c:\\Users\\fgonzalez\\AppData\\Local\\Programs\\Python\\Python310\\lib\\site-packages\\pandas\\io\\sql.py:762: UserWarning: pandas only support SQLAlchemy connectable(engine/connection) ordatabase string URI or sqlite3 DBAPI2 connectionother DBAPI2 objects are not tested, please consider using SQLAlchemy\n",
      "  warnings.warn(\n",
      "C:\\Users\\fgonzalez\\AppData\\Local\\Temp\\ipykernel_10916\\3548553174.py:10: FutureWarning: The frame.append method is deprecated and will be removed from pandas in a future version. Use pandas.concat instead.\n",
      "  products=products.append(p)\n",
      "c:\\Users\\fgonzalez\\AppData\\Local\\Programs\\Python\\Python310\\lib\\site-packages\\pandas\\io\\sql.py:762: UserWarning: pandas only support SQLAlchemy connectable(engine/connection) ordatabase string URI or sqlite3 DBAPI2 connectionother DBAPI2 objects are not tested, please consider using SQLAlchemy\n",
      "  warnings.warn(\n",
      "C:\\Users\\fgonzalez\\AppData\\Local\\Temp\\ipykernel_10916\\3548553174.py:10: FutureWarning: The frame.append method is deprecated and will be removed from pandas in a future version. Use pandas.concat instead.\n",
      "  products=products.append(p)\n",
      "c:\\Users\\fgonzalez\\AppData\\Local\\Programs\\Python\\Python310\\lib\\site-packages\\pandas\\io\\sql.py:762: UserWarning: pandas only support SQLAlchemy connectable(engine/connection) ordatabase string URI or sqlite3 DBAPI2 connectionother DBAPI2 objects are not tested, please consider using SQLAlchemy\n",
      "  warnings.warn(\n",
      "C:\\Users\\fgonzalez\\AppData\\Local\\Temp\\ipykernel_10916\\3548553174.py:10: FutureWarning: The frame.append method is deprecated and will be removed from pandas in a future version. Use pandas.concat instead.\n",
      "  products=products.append(p)\n",
      "c:\\Users\\fgonzalez\\AppData\\Local\\Programs\\Python\\Python310\\lib\\site-packages\\pandas\\io\\sql.py:762: UserWarning: pandas only support SQLAlchemy connectable(engine/connection) ordatabase string URI or sqlite3 DBAPI2 connectionother DBAPI2 objects are not tested, please consider using SQLAlchemy\n",
      "  warnings.warn(\n",
      "C:\\Users\\fgonzalez\\AppData\\Local\\Temp\\ipykernel_10916\\3548553174.py:10: FutureWarning: The frame.append method is deprecated and will be removed from pandas in a future version. Use pandas.concat instead.\n",
      "  products=products.append(p)\n",
      "c:\\Users\\fgonzalez\\AppData\\Local\\Programs\\Python\\Python310\\lib\\site-packages\\pandas\\io\\sql.py:762: UserWarning: pandas only support SQLAlchemy connectable(engine/connection) ordatabase string URI or sqlite3 DBAPI2 connectionother DBAPI2 objects are not tested, please consider using SQLAlchemy\n",
      "  warnings.warn(\n",
      "C:\\Users\\fgonzalez\\AppData\\Local\\Temp\\ipykernel_10916\\3548553174.py:10: FutureWarning: The frame.append method is deprecated and will be removed from pandas in a future version. Use pandas.concat instead.\n",
      "  products=products.append(p)\n",
      "c:\\Users\\fgonzalez\\AppData\\Local\\Programs\\Python\\Python310\\lib\\site-packages\\pandas\\io\\sql.py:762: UserWarning: pandas only support SQLAlchemy connectable(engine/connection) ordatabase string URI or sqlite3 DBAPI2 connectionother DBAPI2 objects are not tested, please consider using SQLAlchemy\n",
      "  warnings.warn(\n",
      "C:\\Users\\fgonzalez\\AppData\\Local\\Temp\\ipykernel_10916\\3548553174.py:10: FutureWarning: The frame.append method is deprecated and will be removed from pandas in a future version. Use pandas.concat instead.\n",
      "  products=products.append(p)\n",
      "c:\\Users\\fgonzalez\\AppData\\Local\\Programs\\Python\\Python310\\lib\\site-packages\\pandas\\io\\sql.py:762: UserWarning: pandas only support SQLAlchemy connectable(engine/connection) ordatabase string URI or sqlite3 DBAPI2 connectionother DBAPI2 objects are not tested, please consider using SQLAlchemy\n",
      "  warnings.warn(\n",
      "C:\\Users\\fgonzalez\\AppData\\Local\\Temp\\ipykernel_10916\\3548553174.py:10: FutureWarning: The frame.append method is deprecated and will be removed from pandas in a future version. Use pandas.concat instead.\n",
      "  products=products.append(p)\n",
      "c:\\Users\\fgonzalez\\AppData\\Local\\Programs\\Python\\Python310\\lib\\site-packages\\pandas\\io\\sql.py:762: UserWarning: pandas only support SQLAlchemy connectable(engine/connection) ordatabase string URI or sqlite3 DBAPI2 connectionother DBAPI2 objects are not tested, please consider using SQLAlchemy\n",
      "  warnings.warn(\n",
      "C:\\Users\\fgonzalez\\AppData\\Local\\Temp\\ipykernel_10916\\3548553174.py:10: FutureWarning: The frame.append method is deprecated and will be removed from pandas in a future version. Use pandas.concat instead.\n",
      "  products=products.append(p)\n",
      "c:\\Users\\fgonzalez\\AppData\\Local\\Programs\\Python\\Python310\\lib\\site-packages\\pandas\\io\\sql.py:762: UserWarning: pandas only support SQLAlchemy connectable(engine/connection) ordatabase string URI or sqlite3 DBAPI2 connectionother DBAPI2 objects are not tested, please consider using SQLAlchemy\n",
      "  warnings.warn(\n",
      "C:\\Users\\fgonzalez\\AppData\\Local\\Temp\\ipykernel_10916\\3548553174.py:10: FutureWarning: The frame.append method is deprecated and will be removed from pandas in a future version. Use pandas.concat instead.\n",
      "  products=products.append(p)\n",
      "c:\\Users\\fgonzalez\\AppData\\Local\\Programs\\Python\\Python310\\lib\\site-packages\\pandas\\io\\sql.py:762: UserWarning: pandas only support SQLAlchemy connectable(engine/connection) ordatabase string URI or sqlite3 DBAPI2 connectionother DBAPI2 objects are not tested, please consider using SQLAlchemy\n",
      "  warnings.warn(\n",
      "C:\\Users\\fgonzalez\\AppData\\Local\\Temp\\ipykernel_10916\\3548553174.py:10: FutureWarning: The frame.append method is deprecated and will be removed from pandas in a future version. Use pandas.concat instead.\n",
      "  products=products.append(p)\n",
      "c:\\Users\\fgonzalez\\AppData\\Local\\Programs\\Python\\Python310\\lib\\site-packages\\pandas\\io\\sql.py:762: UserWarning: pandas only support SQLAlchemy connectable(engine/connection) ordatabase string URI or sqlite3 DBAPI2 connectionother DBAPI2 objects are not tested, please consider using SQLAlchemy\n",
      "  warnings.warn(\n",
      "C:\\Users\\fgonzalez\\AppData\\Local\\Temp\\ipykernel_10916\\3548553174.py:10: FutureWarning: The frame.append method is deprecated and will be removed from pandas in a future version. Use pandas.concat instead.\n",
      "  products=products.append(p)\n",
      "c:\\Users\\fgonzalez\\AppData\\Local\\Programs\\Python\\Python310\\lib\\site-packages\\pandas\\io\\sql.py:762: UserWarning: pandas only support SQLAlchemy connectable(engine/connection) ordatabase string URI or sqlite3 DBAPI2 connectionother DBAPI2 objects are not tested, please consider using SQLAlchemy\n",
      "  warnings.warn(\n",
      "C:\\Users\\fgonzalez\\AppData\\Local\\Temp\\ipykernel_10916\\3548553174.py:10: FutureWarning: The frame.append method is deprecated and will be removed from pandas in a future version. Use pandas.concat instead.\n",
      "  products=products.append(p)\n",
      "c:\\Users\\fgonzalez\\AppData\\Local\\Programs\\Python\\Python310\\lib\\site-packages\\pandas\\io\\sql.py:762: UserWarning: pandas only support SQLAlchemy connectable(engine/connection) ordatabase string URI or sqlite3 DBAPI2 connectionother DBAPI2 objects are not tested, please consider using SQLAlchemy\n",
      "  warnings.warn(\n"
     ]
    },
    {
     "name": "stdout",
     "output_type": "stream",
     "text": [
      "selective_heavy_load_frames\n"
     ]
    },
    {
     "name": "stderr",
     "output_type": "stream",
     "text": [
      "C:\\Users\\fgonzalez\\AppData\\Local\\Temp\\ipykernel_10916\\3548553174.py:10: FutureWarning: The frame.append method is deprecated and will be removed from pandas in a future version. Use pandas.concat instead.\n",
      "  products=products.append(p)\n",
      "c:\\Users\\fgonzalez\\AppData\\Local\\Programs\\Python\\Python310\\lib\\site-packages\\pandas\\io\\sql.py:762: UserWarning: pandas only support SQLAlchemy connectable(engine/connection) ordatabase string URI or sqlite3 DBAPI2 connectionother DBAPI2 objects are not tested, please consider using SQLAlchemy\n",
      "  warnings.warn(\n",
      "C:\\Users\\fgonzalez\\AppData\\Local\\Temp\\ipykernel_10916\\3548553174.py:10: FutureWarning: The frame.append method is deprecated and will be removed from pandas in a future version. Use pandas.concat instead.\n",
      "  products=products.append(p)\n",
      "c:\\Users\\fgonzalez\\AppData\\Local\\Programs\\Python\\Python310\\lib\\site-packages\\pandas\\io\\sql.py:762: UserWarning: pandas only support SQLAlchemy connectable(engine/connection) ordatabase string URI or sqlite3 DBAPI2 connectionother DBAPI2 objects are not tested, please consider using SQLAlchemy\n",
      "  warnings.warn(\n",
      "C:\\Users\\fgonzalez\\AppData\\Local\\Temp\\ipykernel_10916\\3548553174.py:10: FutureWarning: The frame.append method is deprecated and will be removed from pandas in a future version. Use pandas.concat instead.\n",
      "  products=products.append(p)\n",
      "c:\\Users\\fgonzalez\\AppData\\Local\\Programs\\Python\\Python310\\lib\\site-packages\\pandas\\io\\sql.py:762: UserWarning: pandas only support SQLAlchemy connectable(engine/connection) ordatabase string URI or sqlite3 DBAPI2 connectionother DBAPI2 objects are not tested, please consider using SQLAlchemy\n",
      "  warnings.warn(\n",
      "C:\\Users\\fgonzalez\\AppData\\Local\\Temp\\ipykernel_10916\\3548553174.py:10: FutureWarning: The frame.append method is deprecated and will be removed from pandas in a future version. Use pandas.concat instead.\n",
      "  products=products.append(p)\n",
      "c:\\Users\\fgonzalez\\AppData\\Local\\Programs\\Python\\Python310\\lib\\site-packages\\pandas\\io\\sql.py:762: UserWarning: pandas only support SQLAlchemy connectable(engine/connection) ordatabase string URI or sqlite3 DBAPI2 connectionother DBAPI2 objects are not tested, please consider using SQLAlchemy\n",
      "  warnings.warn(\n",
      "C:\\Users\\fgonzalez\\AppData\\Local\\Temp\\ipykernel_10916\\3548553174.py:10: FutureWarning: The frame.append method is deprecated and will be removed from pandas in a future version. Use pandas.concat instead.\n",
      "  products=products.append(p)\n",
      "c:\\Users\\fgonzalez\\AppData\\Local\\Programs\\Python\\Python310\\lib\\site-packages\\pandas\\io\\sql.py:762: UserWarning: pandas only support SQLAlchemy connectable(engine/connection) ordatabase string URI or sqlite3 DBAPI2 connectionother DBAPI2 objects are not tested, please consider using SQLAlchemy\n",
      "  warnings.warn(\n",
      "C:\\Users\\fgonzalez\\AppData\\Local\\Temp\\ipykernel_10916\\3548553174.py:10: FutureWarning: The frame.append method is deprecated and will be removed from pandas in a future version. Use pandas.concat instead.\n",
      "  products=products.append(p)\n",
      "c:\\Users\\fgonzalez\\AppData\\Local\\Programs\\Python\\Python310\\lib\\site-packages\\pandas\\io\\sql.py:762: UserWarning: pandas only support SQLAlchemy connectable(engine/connection) ordatabase string URI or sqlite3 DBAPI2 connectionother DBAPI2 objects are not tested, please consider using SQLAlchemy\n",
      "  warnings.warn(\n",
      "C:\\Users\\fgonzalez\\AppData\\Local\\Temp\\ipykernel_10916\\3548553174.py:10: FutureWarning: The frame.append method is deprecated and will be removed from pandas in a future version. Use pandas.concat instead.\n",
      "  products=products.append(p)\n",
      "c:\\Users\\fgonzalez\\AppData\\Local\\Programs\\Python\\Python310\\lib\\site-packages\\pandas\\io\\sql.py:762: UserWarning: pandas only support SQLAlchemy connectable(engine/connection) ordatabase string URI or sqlite3 DBAPI2 connectionother DBAPI2 objects are not tested, please consider using SQLAlchemy\n",
      "  warnings.warn(\n",
      "C:\\Users\\fgonzalez\\AppData\\Local\\Temp\\ipykernel_10916\\3548553174.py:10: FutureWarning: The frame.append method is deprecated and will be removed from pandas in a future version. Use pandas.concat instead.\n",
      "  products=products.append(p)\n",
      "c:\\Users\\fgonzalez\\AppData\\Local\\Programs\\Python\\Python310\\lib\\site-packages\\pandas\\io\\sql.py:762: UserWarning: pandas only support SQLAlchemy connectable(engine/connection) ordatabase string URI or sqlite3 DBAPI2 connectionother DBAPI2 objects are not tested, please consider using SQLAlchemy\n",
      "  warnings.warn(\n",
      "C:\\Users\\fgonzalez\\AppData\\Local\\Temp\\ipykernel_10916\\3548553174.py:10: FutureWarning: The frame.append method is deprecated and will be removed from pandas in a future version. Use pandas.concat instead.\n",
      "  products=products.append(p)\n",
      "c:\\Users\\fgonzalez\\AppData\\Local\\Programs\\Python\\Python310\\lib\\site-packages\\pandas\\io\\sql.py:762: UserWarning: pandas only support SQLAlchemy connectable(engine/connection) ordatabase string URI or sqlite3 DBAPI2 connectionother DBAPI2 objects are not tested, please consider using SQLAlchemy\n",
      "  warnings.warn(\n",
      "C:\\Users\\fgonzalez\\AppData\\Local\\Temp\\ipykernel_10916\\3548553174.py:10: FutureWarning: The frame.append method is deprecated and will be removed from pandas in a future version. Use pandas.concat instead.\n",
      "  products=products.append(p)\n",
      "c:\\Users\\fgonzalez\\AppData\\Local\\Programs\\Python\\Python310\\lib\\site-packages\\pandas\\io\\sql.py:762: UserWarning: pandas only support SQLAlchemy connectable(engine/connection) ordatabase string URI or sqlite3 DBAPI2 connectionother DBAPI2 objects are not tested, please consider using SQLAlchemy\n",
      "  warnings.warn(\n",
      "C:\\Users\\fgonzalez\\AppData\\Local\\Temp\\ipykernel_10916\\3548553174.py:10: FutureWarning: The frame.append method is deprecated and will be removed from pandas in a future version. Use pandas.concat instead.\n",
      "  products=products.append(p)\n",
      "c:\\Users\\fgonzalez\\AppData\\Local\\Programs\\Python\\Python310\\lib\\site-packages\\pandas\\io\\sql.py:762: UserWarning: pandas only support SQLAlchemy connectable(engine/connection) ordatabase string URI or sqlite3 DBAPI2 connectionother DBAPI2 objects are not tested, please consider using SQLAlchemy\n",
      "  warnings.warn(\n",
      "C:\\Users\\fgonzalez\\AppData\\Local\\Temp\\ipykernel_10916\\3548553174.py:10: FutureWarning: The frame.append method is deprecated and will be removed from pandas in a future version. Use pandas.concat instead.\n",
      "  products=products.append(p)\n",
      "c:\\Users\\fgonzalez\\AppData\\Local\\Programs\\Python\\Python310\\lib\\site-packages\\pandas\\io\\sql.py:762: UserWarning: pandas only support SQLAlchemy connectable(engine/connection) ordatabase string URI or sqlite3 DBAPI2 connectionother DBAPI2 objects are not tested, please consider using SQLAlchemy\n",
      "  warnings.warn(\n",
      "C:\\Users\\fgonzalez\\AppData\\Local\\Temp\\ipykernel_10916\\3548553174.py:10: FutureWarning: The frame.append method is deprecated and will be removed from pandas in a future version. Use pandas.concat instead.\n",
      "  products=products.append(p)\n",
      "c:\\Users\\fgonzalez\\AppData\\Local\\Programs\\Python\\Python310\\lib\\site-packages\\pandas\\io\\sql.py:762: UserWarning: pandas only support SQLAlchemy connectable(engine/connection) ordatabase string URI or sqlite3 DBAPI2 connectionother DBAPI2 objects are not tested, please consider using SQLAlchemy\n",
      "  warnings.warn(\n",
      "C:\\Users\\fgonzalez\\AppData\\Local\\Temp\\ipykernel_10916\\3548553174.py:10: FutureWarning: The frame.append method is deprecated and will be removed from pandas in a future version. Use pandas.concat instead.\n",
      "  products=products.append(p)\n",
      "c:\\Users\\fgonzalez\\AppData\\Local\\Programs\\Python\\Python310\\lib\\site-packages\\pandas\\io\\sql.py:762: UserWarning: pandas only support SQLAlchemy connectable(engine/connection) ordatabase string URI or sqlite3 DBAPI2 connectionother DBAPI2 objects are not tested, please consider using SQLAlchemy\n",
      "  warnings.warn(\n",
      "C:\\Users\\fgonzalez\\AppData\\Local\\Temp\\ipykernel_10916\\3548553174.py:10: FutureWarning: The frame.append method is deprecated and will be removed from pandas in a future version. Use pandas.concat instead.\n",
      "  products=products.append(p)\n",
      "c:\\Users\\fgonzalez\\AppData\\Local\\Programs\\Python\\Python310\\lib\\site-packages\\pandas\\io\\sql.py:762: UserWarning: pandas only support SQLAlchemy connectable(engine/connection) ordatabase string URI or sqlite3 DBAPI2 connectionother DBAPI2 objects are not tested, please consider using SQLAlchemy\n",
      "  warnings.warn(\n",
      "C:\\Users\\fgonzalez\\AppData\\Local\\Temp\\ipykernel_10916\\3548553174.py:10: FutureWarning: The frame.append method is deprecated and will be removed from pandas in a future version. Use pandas.concat instead.\n",
      "  products=products.append(p)\n",
      "c:\\Users\\fgonzalez\\AppData\\Local\\Programs\\Python\\Python310\\lib\\site-packages\\pandas\\io\\sql.py:762: UserWarning: pandas only support SQLAlchemy connectable(engine/connection) ordatabase string URI or sqlite3 DBAPI2 connectionother DBAPI2 objects are not tested, please consider using SQLAlchemy\n",
      "  warnings.warn(\n",
      "C:\\Users\\fgonzalez\\AppData\\Local\\Temp\\ipykernel_10916\\3548553174.py:10: FutureWarning: The frame.append method is deprecated and will be removed from pandas in a future version. Use pandas.concat instead.\n",
      "  products=products.append(p)\n",
      "c:\\Users\\fgonzalez\\AppData\\Local\\Programs\\Python\\Python310\\lib\\site-packages\\pandas\\io\\sql.py:762: UserWarning: pandas only support SQLAlchemy connectable(engine/connection) ordatabase string URI or sqlite3 DBAPI2 connectionother DBAPI2 objects are not tested, please consider using SQLAlchemy\n",
      "  warnings.warn(\n",
      "C:\\Users\\fgonzalez\\AppData\\Local\\Temp\\ipykernel_10916\\3548553174.py:10: FutureWarning: The frame.append method is deprecated and will be removed from pandas in a future version. Use pandas.concat instead.\n",
      "  products=products.append(p)\n",
      "c:\\Users\\fgonzalez\\AppData\\Local\\Programs\\Python\\Python310\\lib\\site-packages\\pandas\\io\\sql.py:762: UserWarning: pandas only support SQLAlchemy connectable(engine/connection) ordatabase string URI or sqlite3 DBAPI2 connectionother DBAPI2 objects are not tested, please consider using SQLAlchemy\n",
      "  warnings.warn(\n",
      "C:\\Users\\fgonzalez\\AppData\\Local\\Temp\\ipykernel_10916\\3548553174.py:10: FutureWarning: The frame.append method is deprecated and will be removed from pandas in a future version. Use pandas.concat instead.\n",
      "  products=products.append(p)\n",
      "c:\\Users\\fgonzalez\\AppData\\Local\\Programs\\Python\\Python310\\lib\\site-packages\\pandas\\io\\sql.py:762: UserWarning: pandas only support SQLAlchemy connectable(engine/connection) ordatabase string URI or sqlite3 DBAPI2 connectionother DBAPI2 objects are not tested, please consider using SQLAlchemy\n",
      "  warnings.warn(\n",
      "C:\\Users\\fgonzalez\\AppData\\Local\\Temp\\ipykernel_10916\\3548553174.py:10: FutureWarning: The frame.append method is deprecated and will be removed from pandas in a future version. Use pandas.concat instead.\n",
      "  products=products.append(p)\n",
      "c:\\Users\\fgonzalez\\AppData\\Local\\Programs\\Python\\Python310\\lib\\site-packages\\pandas\\io\\sql.py:762: UserWarning: pandas only support SQLAlchemy connectable(engine/connection) ordatabase string URI or sqlite3 DBAPI2 connectionother DBAPI2 objects are not tested, please consider using SQLAlchemy\n",
      "  warnings.warn(\n",
      "C:\\Users\\fgonzalez\\AppData\\Local\\Temp\\ipykernel_10916\\3548553174.py:10: FutureWarning: The frame.append method is deprecated and will be removed from pandas in a future version. Use pandas.concat instead.\n",
      "  products=products.append(p)\n"
     ]
    }
   ],
   "source": [
    "products=pd.DataFrame()\n",
    "\n",
    "for i in tablas:\n",
    "    p=pd.read_sql('select * from '+i+' where quotation_id = '+str(id),cnx)\n",
    "    p=p.assign(tabla=i)\n",
    "    if(('cost' not in p.columns)&(len(p)>0)):\n",
    "        costo=aceros.loc[aceros['caliber']==p['caliber'].values[0],'cost'].values[0]\n",
    "        p=p.assign(cost=costo*p.total_kg)\n",
    "        print(i)\n",
    "    products=products.append(p)\n",
    "products=products.fillna('')"
   ]
  },
  {
   "cell_type": "code",
   "execution_count": 22,
   "metadata": {},
   "outputs": [
    {
     "data": {
      "text/html": [
       "<div>\n",
       "<style scoped>\n",
       "    .dataframe tbody tr th:only-of-type {\n",
       "        vertical-align: middle;\n",
       "    }\n",
       "\n",
       "    .dataframe tbody tr th {\n",
       "        vertical-align: top;\n",
       "    }\n",
       "\n",
       "    .dataframe thead th {\n",
       "        text-align: right;\n",
       "    }\n",
       "</style>\n",
       "<table border=\"1\" class=\"dataframe\">\n",
       "  <thead>\n",
       "    <tr style=\"text-align: right;\">\n",
       "      <th></th>\n",
       "      <th>total_price</th>\n",
       "      <th>cost</th>\n",
       "      <th>amount</th>\n",
       "      <th>total_kg</th>\n",
       "    </tr>\n",
       "  </thead>\n",
       "  <tbody>\n",
       "    <tr>\n",
       "      <th>0</th>\n",
       "      <td>1148.88</td>\n",
       "      <td>233.76</td>\n",
       "      <td>1</td>\n",
       "      <td></td>\n",
       "    </tr>\n",
       "    <tr>\n",
       "      <th>1</th>\n",
       "      <td>8987.52</td>\n",
       "      <td>467.52</td>\n",
       "      <td>2</td>\n",
       "      <td></td>\n",
       "    </tr>\n",
       "    <tr>\n",
       "      <th>0</th>\n",
       "      <td>2404.52</td>\n",
       "      <td>486.00</td>\n",
       "      <td>1</td>\n",
       "      <td>12.15</td>\n",
       "    </tr>\n",
       "  </tbody>\n",
       "</table>\n",
       "</div>"
      ],
      "text/plain": [
       "   total_price    cost  amount total_kg\n",
       "0      1148.88  233.76       1         \n",
       "1      8987.52  467.52       2         \n",
       "0      2404.52  486.00       1    12.15"
      ]
     },
     "execution_count": 22,
     "metadata": {},
     "output_type": "execute_result"
    }
   ],
   "source": [
    "products[['total_price','cost','amount','total_kg']]"
   ]
  },
  {
   "cell_type": "code",
   "execution_count": 27,
   "metadata": {},
   "outputs": [
    {
     "data": {
      "text/plain": [
       "0      NaN\n",
       "1      NaN\n",
       "2      NaN\n",
       "3      NaN\n",
       "4      NaN\n",
       "5      NaN\n",
       "6      NaN\n",
       "7      NaN\n",
       "8      NaN\n",
       "9      NaN\n",
       "10     NaN\n",
       "11    EST3\n",
       "12     NaN\n",
       "13     NaN\n",
       "14     NaN\n",
       "15     NaN\n",
       "16     NaN\n",
       "17     NaN\n",
       "18     NaN\n",
       "19     NaN\n",
       "20     NaN\n",
       "21     NaN\n",
       "22     NaN\n",
       "23     NaN\n",
       "24     NaN\n",
       "25     NaN\n",
       "26     NaN\n",
       "27     NaN\n",
       "28     NaN\n",
       "29     NaN\n",
       "30     NaN\n",
       "31     NaN\n",
       "32     NaN\n",
       "Name: caliber, dtype: object"
      ]
     },
     "execution_count": 27,
     "metadata": {},
     "output_type": "execute_result"
    }
   ],
   "source": [
    "aceros['caliber'].map({'EST 3 IN':'EST3'})"
   ]
  },
  {
   "cell_type": "code",
   "execution_count": 31,
   "metadata": {},
   "outputs": [],
   "source": [
    "aceros.loc[aceros['caliber']=='EST 3 IN','caliber']='EST3'"
   ]
  },
  {
   "cell_type": "code",
   "execution_count": 33,
   "metadata": {},
   "outputs": [
    {
     "name": "stderr",
     "output_type": "stream",
     "text": [
      "c:\\Users\\fgonzalez\\AppData\\Local\\Programs\\Python\\Python310\\lib\\site-packages\\pandas\\io\\sql.py:762: UserWarning: pandas only support SQLAlchemy connectable(engine/connection) ordatabase string URI or sqlite3 DBAPI2 connectionother DBAPI2 objects are not tested, please consider using SQLAlchemy\n",
      "  warnings.warn(\n"
     ]
    }
   ],
   "source": [
    "p=pd.read_sql('select * from selective_structural_frames ',cnx)\n",
    "    "
   ]
  },
  {
   "cell_type": "code",
   "execution_count": 40,
   "metadata": {},
   "outputs": [
    {
     "data": {
      "text/plain": [
       "0    EST3\n",
       "1    EST3\n",
       "Name: caliber, dtype: object"
      ]
     },
     "execution_count": 40,
     "metadata": {},
     "output_type": "execute_result"
    }
   ],
   "source": [
    "\n",
    "p['caliber'].str.replace('-','')\n"
   ]
  },
  {
   "cell_type": "code",
   "execution_count": 43,
   "metadata": {},
   "outputs": [
    {
     "data": {
      "text/plain": [
       "dtype('O')"
      ]
     },
     "execution_count": 43,
     "metadata": {},
     "output_type": "execute_result"
    }
   ],
   "source": [
    "aceros['caliber'].dtype"
   ]
  },
  {
   "cell_type": "code",
   "execution_count": 44,
   "metadata": {},
   "outputs": [
    {
     "ename": "ZeroDivisionError",
     "evalue": "division by zero",
     "output_type": "error",
     "traceback": [
      "\u001b[1;31m---------------------------------------------------------------------------\u001b[0m",
      "\u001b[1;31mZeroDivisionError\u001b[0m                         Traceback (most recent call last)",
      "\u001b[1;32mc:\\xampp\\htdocs\\cotizadorFinal\\test.ipynb Cell 16\u001b[0m line \u001b[0;36m1\n\u001b[1;32m----> <a href='vscode-notebook-cell:/c%3A/xampp/htdocs/cotizadorFinal/test.ipynb#X22sZmlsZQ%3D%3D?line=0'>1</a>\u001b[0m \u001b[39mfloat\u001b[39m(\u001b[39m234\u001b[39;49m\u001b[39m/\u001b[39;49m\u001b[39m0\u001b[39;49m)\n",
      "\u001b[1;31mZeroDivisionError\u001b[0m: division by zero"
     ]
    }
   ],
   "source": [
    "float(234/0)"
   ]
  },
  {
   "cell_type": "code",
   "execution_count": 45,
   "metadata": {},
   "outputs": [
    {
     "ename": "ZeroDivisionError",
     "evalue": "division by zero",
     "output_type": "error",
     "traceback": [
      "\u001b[1;31m---------------------------------------------------------------------------\u001b[0m",
      "\u001b[1;31mZeroDivisionError\u001b[0m                         Traceback (most recent call last)",
      "\u001b[1;32mc:\\xampp\\htdocs\\cotizadorFinal\\test.ipynb Cell 17\u001b[0m line \u001b[0;36m1\n\u001b[1;32m----> <a href='vscode-notebook-cell:/c%3A/xampp/htdocs/cotizadorFinal/test.ipynb#X23sZmlsZQ%3D%3D?line=0'>1</a>\u001b[0m \u001b[39m123\u001b[39;49m\u001b[39m/\u001b[39;49m\u001b[39m0\u001b[39;49m\n",
      "\u001b[1;31mZeroDivisionError\u001b[0m: division by zero"
     ]
    }
   ],
   "source": [
    "123/0"
   ]
  },
  {
   "cell_type": "code",
   "execution_count": null,
   "metadata": {},
   "outputs": [],
   "source": []
  }
 ],
 "metadata": {
  "kernelspec": {
   "display_name": "Python 3",
   "language": "python",
   "name": "python3"
  },
  "language_info": {
   "codemirror_mode": {
    "name": "ipython",
    "version": 3
   },
   "file_extension": ".py",
   "mimetype": "text/x-python",
   "name": "python",
   "nbconvert_exporter": "python",
   "pygments_lexer": "ipython3",
   "version": "3.10.7"
  },
  "orig_nbformat": 4
 },
 "nbformat": 4,
 "nbformat_minor": 2
}
