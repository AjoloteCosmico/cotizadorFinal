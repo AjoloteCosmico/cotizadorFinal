{
 "cells": [
  {
   "cell_type": "code",
   "execution_count": 1,
   "metadata": {},
   "outputs": [],
   "source": [
    "import pandas as pd\n",
    "import sys\n",
    "import mysql.connector\n",
    "import xlsxwriter\n",
    "import pandas as pd\n",
    "import sys\n",
    "import mysql.connector\n",
    "import os\n",
    "from dotenv import load_dotenv\n",
    "load_dotenv()\n",
    "\n",
    "DB_USERNAME = os.getenv('DB_USERNAME')\n",
    "DB_DATABASE = os.getenv('DB_DATABASE')\n",
    "DB_PASSWORD = os.getenv('DB_PASSWORD')\n",
    "DB_PORT = os.getenv('DB_PORT')\n",
    "cnx = mysql.connector.connect(user=DB_USERNAME,\n",
    "                              password=DB_PASSWORD,\n",
    "                              host='localhost',\n",
    "                              port=DB_PORT,\n",
    "                              database=DB_DATABASE,\n",
    "                              use_pure=False)\n",
    "cursor=cnx.cursor(buffered=True)\n"
   ]
  },
  {
   "cell_type": "code",
   "execution_count": 4,
   "metadata": {},
   "outputs": [
    {
     "name": "stderr",
     "output_type": "stream",
     "text": [
      "C:\\Users\\hp\\AppData\\Local\\Temp\\ipykernel_7172\\1387564387.py:1: UserWarning: pandas only supports SQLAlchemy connectable (engine/connection) or database string URI or sqlite3 DBAPI2 connection. Other DBAPI2 objects are not tested. Please consider using SQLAlchemy.\n",
      "  Destinations=pd.read_sql('select * from destinations', cnx)\n"
     ]
    }
   ],
   "source": [
    "Destinations=pd.read_sql('select * from destinations', cnx)"
   ]
  },
  {
   "cell_type": "code",
   "execution_count": 12,
   "metadata": {},
   "outputs": [],
   "source": [
    "Unidades=Destinations['unit'].unique()\n",
    "Estados=Destinations['state'].unique()"
   ]
  },
  {
   "cell_type": "code",
   "execution_count": 21,
   "metadata": {},
   "outputs": [
    {
     "name": "stdout",
     "output_type": "stream",
     "text": [
      "Estado de México 3.5 T 2.0\n",
      "Estado de México Pequeña 900.0\n",
      "Estado de México Torthon 2.0\n",
      "Estado de México Trailer 4.0\n",
      "Jalisco 3.5 T 10.0\n",
      "Jalisco Pequeña 10.0\n",
      "Jalisco Torthon 21.0\n",
      "Jalisco Trailer 42.0\n",
      "CDMX 3.5 T 1.0\n",
      "CDMX Pequeña 1.0\n",
      "CDMX Torthon 2.0\n",
      "CDMX Trailer 5.0\n",
      "Guanajuato 3.5 T 7.0\n",
      "Guanajuato Pequeña 7.0\n",
      "Guanajuato Torthon 15.0\n",
      "Guanajuato Trailer 30.0\n",
      "Nuevo León 3.5 T 8.0\n",
      "Nuevo León Pequeña 8.0\n",
      "Nuevo León Torthon 17.0\n",
      "Nuevo León Trailer 34.0\n",
      "Qurétaro 3.5 T 6.0\n",
      "Qurétaro Pequeña 6.0\n",
      "Qurétaro Torthon 13.0\n",
      "Qurétaro Trailer 26.0\n",
      "MEXICO Pequeña 350.0\n"
     ]
    }
   ],
   "source": [
    "for i in Estados:\n",
    "    for j in Unidades:\n",
    "        MyDestiny=Destinations.loc[(Destinations['unit']==j)&(Destinations['state']==i)]\n",
    "        if(len(MyDestiny)>0):\n",
    "            print(i,j,MyDestiny['cost'].values[0])\n",
    "            mySql_insert_query = \"\"\"INSERT INTO price_lists ( \n",
    "                description, caliber, type, system, piece , cost ,\n",
    "                f_vta, f_desp, f_emb, f_desc,f_total) \n",
    "                                VALUES (%s, %s, %s, %s, %s,%s, %s, %s, %s, %s,%s) \"\"\"\n",
    "\n",
    "            record = ('DESTINO '+str(i)+ 'Unidad '+str(j), i, '-', 'DESTINO',i,MyDestiny['cost'].values[0],1.6,2,1.015,0.95,3.419)\n",
    "            cursor.execute(mySql_insert_query, record)\n",
    "            cnx.commit()\n",
    "           "
   ]
  },
  {
   "cell_type": "code",
   "execution_count": 36,
   "metadata": {},
   "outputs": [
    {
     "data": {
      "text/plain": [
       "22.485"
      ]
     },
     "execution_count": 36,
     "metadata": {},
     "output_type": "execute_result"
    }
   ],
   "source": [
    "899.4/40.0"
   ]
  },
  {
   "cell_type": "code",
   "execution_count": 38,
   "metadata": {},
   "outputs": [
    {
     "data": {
      "text/plain": [
       "4.574771108850458"
      ]
     },
     "execution_count": 38,
     "metadata": {},
     "output_type": "execute_result"
    }
   ],
   "source": [
    "22.485/4.915"
   ]
  },
  {
   "cell_type": "code",
   "execution_count": 49,
   "metadata": {},
   "outputs": [
    {
     "data": {
      "text/plain": [
       "1439.112"
      ]
     },
     "execution_count": 49,
     "metadata": {},
     "output_type": "execute_result"
    }
   ],
   "source": [
    "14.64*40*4.915/2"
   ]
  },
  {
   "cell_type": "code",
   "execution_count": 51,
   "metadata": {},
   "outputs": [
    {
     "data": {
      "text/plain": [
       "183.0"
      ]
     },
     "execution_count": 51,
     "metadata": {},
     "output_type": "execute_result"
    }
   ],
   "source": [
    "6.10*30"
   ]
  },
  {
   "cell_type": "code",
   "execution_count": null,
   "metadata": {},
   "outputs": [],
   "source": []
  }
 ],
 "metadata": {
  "kernelspec": {
   "display_name": "Python 3",
   "language": "python",
   "name": "python3"
  },
  "language_info": {
   "codemirror_mode": {
    "name": "ipython",
    "version": 3
   },
   "file_extension": ".py",
   "mimetype": "text/x-python",
   "name": "python",
   "nbconvert_exporter": "python",
   "pygments_lexer": "ipython3",
   "version": "3.10.0"
  },
  "orig_nbformat": 4
 },
 "nbformat": 4,
 "nbformat_minor": 2
}
