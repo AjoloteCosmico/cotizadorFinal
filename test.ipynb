{
 "cells": [
  {
   "cell_type": "code",
   "execution_count": 31,
   "metadata": {},
   "outputs": [
    {
     "ename": "DatabaseError",
     "evalue": "2003 (HY000): Can't connect to MySQL server on '137.184.6.42:3306' (10060)",
     "output_type": "error",
     "traceback": [
      "\u001b[1;31m---------------------------------------------------------------------------\u001b[0m",
      "\u001b[1;31mMySQLInterfaceError\u001b[0m                       Traceback (most recent call last)",
      "File \u001b[1;32mc:\\Python310\\lib\\site-packages\\mysql\\connector\\connection_cext.py:236\u001b[0m, in \u001b[0;36mCMySQLConnection._open_connection\u001b[1;34m(self)\u001b[0m\n\u001b[0;32m    235\u001b[0m \u001b[39mtry\u001b[39;00m:\n\u001b[1;32m--> 236\u001b[0m     \u001b[39mself\u001b[39m\u001b[39m.\u001b[39m_cmysql\u001b[39m.\u001b[39mconnect(\u001b[39m*\u001b[39m\u001b[39m*\u001b[39mcnx_kwargs)\n\u001b[0;32m    237\u001b[0m     \u001b[39mself\u001b[39m\u001b[39m.\u001b[39m_cmysql\u001b[39m.\u001b[39mconverter_str_fallback \u001b[39m=\u001b[39m \u001b[39mself\u001b[39m\u001b[39m.\u001b[39m_converter_str_fallback\n",
      "\u001b[1;31mMySQLInterfaceError\u001b[0m: Can't connect to MySQL server on '137.184.6.42:3306' (10060)",
      "\nDuring handling of the above exception, another exception occurred:\n",
      "\u001b[1;31mDatabaseError\u001b[0m                             Traceback (most recent call last)",
      "\u001b[1;32mc:\\xampp\\htdocs\\cotizadorFinal\\test.ipynb Cell 1\u001b[0m in \u001b[0;36m<cell line: 15>\u001b[1;34m()\u001b[0m\n\u001b[0;32m     <a href='vscode-notebook-cell:/c%3A/xampp/htdocs/cotizadorFinal/test.ipynb#W0sZmlsZQ%3D%3D?line=12'>13</a>\u001b[0m DB_DATABASE \u001b[39m=\u001b[39m \u001b[39m'\u001b[39m\u001b[39mcotizador\u001b[39m\u001b[39m'\u001b[39m\n\u001b[0;32m     <a href='vscode-notebook-cell:/c%3A/xampp/htdocs/cotizadorFinal/test.ipynb#W0sZmlsZQ%3D%3D?line=13'>14</a>\u001b[0m DB_PASSWORD \u001b[39m=\u001b[39m \u001b[39m'\u001b[39m\u001b[39mmynewpassword\u001b[39m\u001b[39m'\u001b[39m\n\u001b[1;32m---> <a href='vscode-notebook-cell:/c%3A/xampp/htdocs/cotizadorFinal/test.ipynb#W0sZmlsZQ%3D%3D?line=14'>15</a>\u001b[0m cnx \u001b[39m=\u001b[39m mysql\u001b[39m.\u001b[39;49mconnector\u001b[39m.\u001b[39;49mconnect(user\u001b[39m=\u001b[39;49mDB_USERNAME,\n\u001b[0;32m     <a href='vscode-notebook-cell:/c%3A/xampp/htdocs/cotizadorFinal/test.ipynb#W0sZmlsZQ%3D%3D?line=15'>16</a>\u001b[0m                               password\u001b[39m=\u001b[39;49mDB_PASSWORD,\n\u001b[0;32m     <a href='vscode-notebook-cell:/c%3A/xampp/htdocs/cotizadorFinal/test.ipynb#W0sZmlsZQ%3D%3D?line=16'>17</a>\u001b[0m                               host\u001b[39m=\u001b[39;49m\u001b[39m'\u001b[39;49m\u001b[39m137.184.6.42\u001b[39;49m\u001b[39m'\u001b[39;49m,\n\u001b[0;32m     <a href='vscode-notebook-cell:/c%3A/xampp/htdocs/cotizadorFinal/test.ipynb#W0sZmlsZQ%3D%3D?line=17'>18</a>\u001b[0m                               port\u001b[39m=\u001b[39;49m\u001b[39m'\u001b[39;49m\u001b[39m3306\u001b[39;49m\u001b[39m'\u001b[39;49m,\n\u001b[0;32m     <a href='vscode-notebook-cell:/c%3A/xampp/htdocs/cotizadorFinal/test.ipynb#W0sZmlsZQ%3D%3D?line=18'>19</a>\u001b[0m                               database\u001b[39m=\u001b[39;49mDB_DATABASE,\n\u001b[0;32m     <a href='vscode-notebook-cell:/c%3A/xampp/htdocs/cotizadorFinal/test.ipynb#W0sZmlsZQ%3D%3D?line=19'>20</a>\u001b[0m                               use_pure\u001b[39m=\u001b[39;49m\u001b[39mFalse\u001b[39;49;00m)\n\u001b[0;32m     <a href='vscode-notebook-cell:/c%3A/xampp/htdocs/cotizadorFinal/test.ipynb#W0sZmlsZQ%3D%3D?line=20'>21</a>\u001b[0m cursor\u001b[39m=\u001b[39mcnx\u001b[39m.\u001b[39mcursor(buffered\u001b[39m=\u001b[39m\u001b[39mTrue\u001b[39;00m)\n",
      "File \u001b[1;32mc:\\Python310\\lib\\site-packages\\mysql\\connector\\__init__.py:272\u001b[0m, in \u001b[0;36mconnect\u001b[1;34m(*args, **kwargs)\u001b[0m\n\u001b[0;32m    269\u001b[0m         \u001b[39mraise\u001b[39;00m \u001b[39mImportError\u001b[39;00m(ERROR_NO_CEXT)\n\u001b[0;32m    271\u001b[0m \u001b[39mif\u001b[39;00m HAVE_CEXT \u001b[39mand\u001b[39;00m \u001b[39mnot\u001b[39;00m use_pure:\n\u001b[1;32m--> 272\u001b[0m     \u001b[39mreturn\u001b[39;00m CMySQLConnection(\u001b[39m*\u001b[39margs, \u001b[39m*\u001b[39m\u001b[39m*\u001b[39mkwargs)\n\u001b[0;32m    273\u001b[0m \u001b[39mreturn\u001b[39;00m MySQLConnection(\u001b[39m*\u001b[39margs, \u001b[39m*\u001b[39m\u001b[39m*\u001b[39mkwargs)\n",
      "File \u001b[1;32mc:\\Python310\\lib\\site-packages\\mysql\\connector\\connection_cext.py:85\u001b[0m, in \u001b[0;36mCMySQLConnection.__init__\u001b[1;34m(self, **kwargs)\u001b[0m\n\u001b[0;32m     82\u001b[0m \u001b[39msuper\u001b[39m(CMySQLConnection, \u001b[39mself\u001b[39m)\u001b[39m.\u001b[39m\u001b[39m__init__\u001b[39m(\u001b[39m*\u001b[39m\u001b[39m*\u001b[39mkwargs)\n\u001b[0;32m     84\u001b[0m \u001b[39mif\u001b[39;00m kwargs:\n\u001b[1;32m---> 85\u001b[0m     \u001b[39mself\u001b[39m\u001b[39m.\u001b[39mconnect(\u001b[39m*\u001b[39m\u001b[39m*\u001b[39mkwargs)\n",
      "File \u001b[1;32mc:\\Python310\\lib\\site-packages\\mysql\\connector\\abstracts.py:1028\u001b[0m, in \u001b[0;36mMySQLConnectionAbstract.connect\u001b[1;34m(self, **kwargs)\u001b[0m\n\u001b[0;32m   1025\u001b[0m     \u001b[39mself\u001b[39m\u001b[39m.\u001b[39mconfig(\u001b[39m*\u001b[39m\u001b[39m*\u001b[39mkwargs)\n\u001b[0;32m   1027\u001b[0m \u001b[39mself\u001b[39m\u001b[39m.\u001b[39mdisconnect()\n\u001b[1;32m-> 1028\u001b[0m \u001b[39mself\u001b[39;49m\u001b[39m.\u001b[39;49m_open_connection()\n\u001b[0;32m   1029\u001b[0m \u001b[39m# Server does not allow to run any other statement different from ALTER\u001b[39;00m\n\u001b[0;32m   1030\u001b[0m \u001b[39m# when user's password has been expired.\u001b[39;00m\n\u001b[0;32m   1031\u001b[0m \u001b[39mif\u001b[39;00m \u001b[39mnot\u001b[39;00m \u001b[39mself\u001b[39m\u001b[39m.\u001b[39m_client_flags \u001b[39m&\u001b[39m ClientFlag\u001b[39m.\u001b[39mCAN_HANDLE_EXPIRED_PASSWORDS:\n",
      "File \u001b[1;32mc:\\Python310\\lib\\site-packages\\mysql\\connector\\connection_cext.py:241\u001b[0m, in \u001b[0;36mCMySQLConnection._open_connection\u001b[1;34m(self)\u001b[0m\n\u001b[0;32m    239\u001b[0m         \u001b[39mself\u001b[39m\u001b[39m.\u001b[39mconverter\u001b[39m.\u001b[39mstr_fallback \u001b[39m=\u001b[39m \u001b[39mself\u001b[39m\u001b[39m.\u001b[39m_converter_str_fallback\n\u001b[0;32m    240\u001b[0m \u001b[39mexcept\u001b[39;00m MySQLInterfaceError \u001b[39mas\u001b[39;00m exc:\n\u001b[1;32m--> 241\u001b[0m     \u001b[39mraise\u001b[39;00m errors\u001b[39m.\u001b[39mget_mysql_exception(msg\u001b[39m=\u001b[39mexc\u001b[39m.\u001b[39mmsg, errno\u001b[39m=\u001b[39mexc\u001b[39m.\u001b[39merrno,\n\u001b[0;32m    242\u001b[0m                                      sqlstate\u001b[39m=\u001b[39mexc\u001b[39m.\u001b[39msqlstate)\n\u001b[0;32m    244\u001b[0m \u001b[39mself\u001b[39m\u001b[39m.\u001b[39m_do_handshake()\n",
      "\u001b[1;31mDatabaseError\u001b[0m: 2003 (HY000): Can't connect to MySQL server on '137.184.6.42:3306' (10060)"
     ]
    }
   ],
   "source": [
    "import pandas as pd\n",
    "import sys\n",
    "import mysql.connector\n",
    "import xlsxwriter\n",
    "import pandas as pd\n",
    "import sys\n",
    "import mysql.connector\n",
    "import os\n",
    "from dotenv import load_dotenv\n",
    "load_dotenv()\n",
    "\n",
    "DB_USERNAME = 'root'\n",
    "DB_DATABASE = 'cotizador'\n",
    "DB_PASSWORD = 'mynewpassword'\n",
    "cnx = mysql.connector.connect(user=DB_USERNAME,\n",
    "                              password=DB_PASSWORD,\n",
    "                              host='137.184.6.42',\n",
    "                              port='3306',\n",
    "                              database=DB_DATABASE,\n",
    "                              use_pure=False)\n",
    "cursor=cnx.cursor(buffered=True)\n"
   ]
  },
  {
   "cell_type": "code",
   "execution_count": 4,
   "metadata": {},
   "outputs": [
    {
     "name": "stderr",
     "output_type": "stream",
     "text": [
      "C:\\Users\\hp\\AppData\\Local\\Temp\\ipykernel_7172\\1387564387.py:1: UserWarning: pandas only supports SQLAlchemy connectable (engine/connection) or database string URI or sqlite3 DBAPI2 connection. Other DBAPI2 objects are not tested. Please consider using SQLAlchemy.\n",
      "  Destinations=pd.read_sql('select * from destinations', cnx)\n"
     ]
    }
   ],
   "source": [
    "Destinations=pd.read_sql('select * from destinations', cnx)"
   ]
  },
  {
   "cell_type": "code",
   "execution_count": 12,
   "metadata": {},
   "outputs": [],
   "source": [
    "Unidades=Destinations['unit'].unique()\n",
    "Estados=Destinations['state'].unique()"
   ]
  },
  {
   "cell_type": "code",
   "execution_count": 21,
   "metadata": {},
   "outputs": [
    {
     "name": "stdout",
     "output_type": "stream",
     "text": [
      "Estado de México 3.5 T 2.0\n",
      "Estado de México Pequeña 900.0\n",
      "Estado de México Torthon 2.0\n",
      "Estado de México Trailer 4.0\n",
      "Jalisco 3.5 T 10.0\n",
      "Jalisco Pequeña 10.0\n",
      "Jalisco Torthon 21.0\n",
      "Jalisco Trailer 42.0\n",
      "CDMX 3.5 T 1.0\n",
      "CDMX Pequeña 1.0\n",
      "CDMX Torthon 2.0\n",
      "CDMX Trailer 5.0\n",
      "Guanajuato 3.5 T 7.0\n",
      "Guanajuato Pequeña 7.0\n",
      "Guanajuato Torthon 15.0\n",
      "Guanajuato Trailer 30.0\n",
      "Nuevo León 3.5 T 8.0\n",
      "Nuevo León Pequeña 8.0\n",
      "Nuevo León Torthon 17.0\n",
      "Nuevo León Trailer 34.0\n",
      "Qurétaro 3.5 T 6.0\n",
      "Qurétaro Pequeña 6.0\n",
      "Qurétaro Torthon 13.0\n",
      "Qurétaro Trailer 26.0\n",
      "MEXICO Pequeña 350.0\n"
     ]
    }
   ],
   "source": [
    "for i in Estados:\n",
    "    for j in Unidades:\n",
    "        MyDestiny=Destinations.loc[(Destinations['unit']==j)&(Destinations['state']==i)]\n",
    "        if(len(MyDestiny)>0):\n",
    "            print(i,j,MyDestiny['cost'].values[0])\n",
    "            mySql_insert_query = \"\"\"INSERT INTO price_lists ( \n",
    "                description, caliber, type, system, piece , cost ,\n",
    "                f_vta, f_desp, f_emb, f_desc,f_total) \n",
    "                                VALUES (%s, %s, %s, %s, %s,%s, %s, %s, %s, %s,%s) \"\"\"\n",
    "\n",
    "            record = ('Destino '+str(i)+ ' Unidad '+str(j), i, '-', 'DESTINO',i,MyDestiny['cost'].values[0],1.6,2,1.015,0.95,3.419)\n",
    "            cursor.execute(mySql_insert_query, record)\n",
    "            cnx.commit()\n",
    "           "
   ]
  },
  {
   "cell_type": "code",
   "execution_count": 36,
   "metadata": {},
   "outputs": [
    {
     "data": {
      "text/plain": [
       "22.485"
      ]
     },
     "execution_count": 36,
     "metadata": {},
     "output_type": "execute_result"
    }
   ],
   "source": [
    "899.4/40.0"
   ]
  },
  {
   "cell_type": "code",
   "execution_count": 38,
   "metadata": {},
   "outputs": [
    {
     "data": {
      "text/plain": [
       "4.574771108850458"
      ]
     },
     "execution_count": 38,
     "metadata": {},
     "output_type": "execute_result"
    }
   ],
   "source": [
    "22.485/4.915"
   ]
  },
  {
   "cell_type": "code",
   "execution_count": 49,
   "metadata": {},
   "outputs": [
    {
     "data": {
      "text/plain": [
       "1439.112"
      ]
     },
     "execution_count": 49,
     "metadata": {},
     "output_type": "execute_result"
    }
   ],
   "source": [
    "14.64*40*4.915/2"
   ]
  },
  {
   "cell_type": "code",
   "execution_count": 51,
   "metadata": {},
   "outputs": [
    {
     "data": {
      "text/plain": [
       "183.0"
      ]
     },
     "execution_count": 51,
     "metadata": {},
     "output_type": "execute_result"
    }
   ],
   "source": [
    "6.10*30"
   ]
  },
  {
   "cell_type": "code",
   "execution_count": null,
   "metadata": {},
   "outputs": [],
   "source": []
  }
 ],
 "metadata": {
  "kernelspec": {
   "display_name": "Python 3",
   "language": "python",
   "name": "python3"
  },
  "language_info": {
   "codemirror_mode": {
    "name": "ipython",
    "version": 3
   },
   "file_extension": ".py",
   "mimetype": "text/x-python",
   "name": "python",
   "nbconvert_exporter": "python",
   "pygments_lexer": "ipython3",
   "version": "3.10.0"
  },
  "orig_nbformat": 4
 },
 "nbformat": 4,
 "nbformat_minor": 2
}
